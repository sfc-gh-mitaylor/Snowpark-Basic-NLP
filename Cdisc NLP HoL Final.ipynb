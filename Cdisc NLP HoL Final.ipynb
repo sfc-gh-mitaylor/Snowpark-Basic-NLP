{
 "cells": [
  {
   "cell_type": "markdown",
   "id": "de03f6de-310a-43bf-8ce8-d5f4cf9eb869",
   "metadata": {
    "tags": []
   },
   "source": [
    "# 1. Getting Data\n",
    "\n",
    "First we will get some data using sklearn, and push it into a pandas dataframe.  Note this step is for convenience only, a \"real\" use case would se data that was in S3, Snowflake etc.\n",
    "\n"
   ]
  },
  {
   "cell_type": "code",
   "execution_count": 26,
   "id": "60a13e76-9fd3-4038-b0c0-c76f027c37d5",
   "metadata": {
    "tags": []
   },
   "outputs": [],
   "source": [
    "from nltk.corpus import stopwords\n",
    "import pandas as pd\n",
    "import nltk\n",
    "import json\n",
    "from sklearn.feature_extraction.text import TfidfVectorizer\n",
    "from sklearn.model_selection import train_test_split\n",
    "import unicodedata\n",
    "import seaborn as sns\n",
    "\n",
    "from snowflake.snowpark.session import Session\n",
    "from snowflake.snowpark.functions import sproc\n",
    "import snowflake.snowpark.functions as F\n",
    "import snowflake.snowpark.types as T"
   ]
  },
  {
   "cell_type": "code",
   "execution_count": 27,
   "id": "232bc074-109a-47a1-aba0-4c5fe747db9b",
   "metadata": {
    "tags": []
   },
   "outputs": [],
   "source": [
    "from sklearn.datasets import fetch_20newsgroups\n",
    "categories = ['comp.sys.ibm.pc.hardware',  'comp.sys.mac.hardware', 'comp.windows.x']\n",
    "newsgroups_train = fetch_20newsgroups(subset='train',\n",
    "                                      remove=('headers', 'footers', 'quotes'),\n",
    "                                      categories=categories)\n",
    "\n",
    "newsgroups_test = fetch_20newsgroups(subset='test',\n",
    "                                      remove=('headers', 'footers', 'quotes'),\n",
    "                                      categories=categories)\n",
    "\n",
    "train_df = pd.DataFrame()\n",
    "train_df[\"TEXT\"] = newsgroups_train.data\n",
    "train_df['Y'] = newsgroups_train.target\n",
    "\n",
    "test_df = pd.DataFrame()\n",
    "test_df[\"TEXT\"] = newsgroups_test.data\n",
    "test_df['Y'] = newsgroups_test.target"
   ]
  },
  {
   "cell_type": "markdown",
   "id": "35c6ff12-5ac2-4c70-97e0-2748a371e7ec",
   "metadata": {
    "tags": []
   },
   "source": [
    "# 2. Load Data into Snowflake"
   ]
  },
  {
   "cell_type": "markdown",
   "id": "1aa70eaf-1822-4c49-b5ba-1db1964a1ab4",
   "metadata": {},
   "source": [
    "The credentials json should look like this:\n",
    "    \n",
    "    {\n",
    "    \"account\": \"your_account_name\", \n",
    "    \"user\": \"your_user_name\",\n",
    "    \"password\": \"insert_your_pwd_here\",\n",
    "    \"role\": \"ACCOUNTADMIN\"\n",
    "}"
   ]
  },
  {
   "cell_type": "code",
   "execution_count": 3,
   "id": "458fa4a1-7cf6-4dc6-85c4-e5b3b6964159",
   "metadata": {
    "tags": []
   },
   "outputs": [
    {
     "data": {
      "text/plain": [
       "[Row(status='Statement executed successfully.')]"
      ]
     },
     "execution_count": 3,
     "metadata": {},
     "output_type": "execute_result"
    }
   ],
   "source": [
    "snowflake_connection_cfg = json.loads(open(\"/Users/mitaylor/Documents/creds/creds.json\").read())\n",
    "session = Session.builder.configs(snowflake_connection_cfg).create()\n",
    "session.sql(\"CREATE OR REPLACE WAREHOUSE CD_VH WITH WAREHOUSE_SIZE='X-SMALL'\").collect()\n",
    "#session.sql(\"USE DATABASE CD_DB\").collect()\n",
    "\n",
    "session.sql(\"CREATE OR REPLACE DATABASE CD_DB\").collect()\n",
    "session.sql(\"CREATE OR REPLACE STAGE CD_STAGE\").collect()"
   ]
  },
  {
   "cell_type": "code",
   "execution_count": 4,
   "id": "9ff30218-a939-4273-8dd1-1a6c0a567623",
   "metadata": {},
   "outputs": [
    {
     "data": {
      "text/plain": [
       "<snowflake.snowpark.table.Table at 0x7fc0018bbe20>"
      ]
     },
     "execution_count": 4,
     "metadata": {},
     "output_type": "execute_result"
    }
   ],
   "source": [
    "session.write_pandas(train_df, table_name='TRAIN_DF', auto_create_table=True, overwrite=True)\n",
    "session.write_pandas(test_df, table_name='TEST_DF', auto_create_table=True, overwrite=True)"
   ]
  },
  {
   "cell_type": "markdown",
   "id": "ce960d7d-f4f4-483e-961b-3910320f9acf",
   "metadata": {
    "tags": []
   },
   "source": [
    "# 2. Start NLPing!"
   ]
  },
  {
   "cell_type": "markdown",
   "id": "e632e1eb-176a-4b47-bb9d-b94b13ee8579",
   "metadata": {
    "tags": []
   },
   "source": [
    "## 2.LOC The Local Approach"
   ]
  },
  {
   "cell_type": "markdown",
   "id": "6672b08f-4b64-439d-9c1f-cb0949108357",
   "metadata": {
    "tags": []
   },
   "source": [
    "### 2.LOC.1 Stopwords"
   ]
  },
  {
   "cell_type": "code",
   "execution_count": 5,
   "id": "ddf88965-964c-4dcf-9fcc-0b8f2c1d734c",
   "metadata": {
    "tags": []
   },
   "outputs": [
    {
     "name": "stderr",
     "output_type": "stream",
     "text": [
      "[nltk_data] Downloading package stopwords to\n",
      "[nltk_data]     /Users/mitaylor/nltk_data...\n",
      "[nltk_data]   Package stopwords is already up-to-date!\n"
     ]
    }
   ],
   "source": [
    "nltk.download('stopwords')\n",
    "stopwords = stopwords.words(\"english\")"
   ]
  },
  {
   "cell_type": "code",
   "execution_count": 6,
   "id": "ee6751ec-3cbf-4c24-9c4c-5e9da864eb1b",
   "metadata": {
    "tags": []
   },
   "outputs": [],
   "source": [
    "def simplify(text):\n",
    "    try:\n",
    "        text = unicode(text, \"utf-8\")\n",
    "    except NameError:\n",
    "        pass\n",
    "    text = unicodedata.normalize(\"NFD\", text).encode(\"ascii\", \"ignore\").decode(\"utf-8\")\n",
    "    return str(text)\n",
    "\n",
    "stopwords = [simplify(d) for d in stopwords]"
   ]
  },
  {
   "cell_type": "markdown",
   "id": "4200670f-e618-4905-a511-393d9edc46eb",
   "metadata": {
    "tags": []
   },
   "source": [
    "### 2.LOC.2 TFIDF Processing"
   ]
  },
  {
   "cell_type": "code",
   "execution_count": 7,
   "id": "8b9b7386-6f2a-42de-9ac4-39b5fbd83ae2",
   "metadata": {
    "tags": []
   },
   "outputs": [
    {
     "name": "stderr",
     "output_type": "stream",
     "text": [
      "/Users/mitaylor/opt/anaconda3/envs/xavier_test/lib/python3.9/site-packages/sklearn/utils/_param_validation.py:591: FutureWarning: Passing an int for a boolean parameter is deprecated in version 1.2 and won't be supported anymore in version 1.4.\n",
      "  warnings.warn(\n"
     ]
    }
   ],
   "source": [
    "from sklearn.feature_extraction.text import TfidfVectorizer\n",
    "\n",
    "vectorizer = TfidfVectorizer(\n",
    "    min_df=1,\n",
    "    max_features=None,\n",
    "    strip_accents=\"unicode\",\n",
    "    analyzer=\"word\",\n",
    "    token_pattern=r\"[a-zA-Z0-9]{1,}\",\n",
    "    ngram_range=(1, 3),\n",
    "    use_idf=1,\n",
    "    smooth_idf=1,\n",
    "    sublinear_tf=1,\n",
    "    stop_words=stopwords,\n",
    ")\n",
    "train_tfidf = vectorizer.fit_transform(train_df[\"TEXT\"])\n",
    "\n",
    "test_tfidf = vectorizer.transform(test_df[\"TEXT\"])"
   ]
  },
  {
   "cell_type": "markdown",
   "id": "73569eac-4815-4b25-8c3f-930b67f54878",
   "metadata": {
    "tags": []
   },
   "source": [
    "### 2.LOC.3 Machine Learning"
   ]
  },
  {
   "cell_type": "code",
   "execution_count": 8,
   "id": "91de328c-eae4-4ae1-ad14-226167f9dad1",
   "metadata": {
    "tags": []
   },
   "outputs": [
    {
     "name": "stdout",
     "output_type": "stream",
     "text": [
      "Fit logistic regression...\n",
      "CPU times: user 55.5 ms, sys: 273 ms, total: 328 ms\n",
      "Wall time: 3.12 s\n"
     ]
    },
    {
     "data": {
      "text/html": [
       "<style>#sk-container-id-1 {color: black;}#sk-container-id-1 pre{padding: 0;}#sk-container-id-1 div.sk-toggleable {background-color: white;}#sk-container-id-1 label.sk-toggleable__label {cursor: pointer;display: block;width: 100%;margin-bottom: 0;padding: 0.3em;box-sizing: border-box;text-align: center;}#sk-container-id-1 label.sk-toggleable__label-arrow:before {content: \"▸\";float: left;margin-right: 0.25em;color: #696969;}#sk-container-id-1 label.sk-toggleable__label-arrow:hover:before {color: black;}#sk-container-id-1 div.sk-estimator:hover label.sk-toggleable__label-arrow:before {color: black;}#sk-container-id-1 div.sk-toggleable__content {max-height: 0;max-width: 0;overflow: hidden;text-align: left;background-color: #f0f8ff;}#sk-container-id-1 div.sk-toggleable__content pre {margin: 0.2em;color: black;border-radius: 0.25em;background-color: #f0f8ff;}#sk-container-id-1 input.sk-toggleable__control:checked~div.sk-toggleable__content {max-height: 200px;max-width: 100%;overflow: auto;}#sk-container-id-1 input.sk-toggleable__control:checked~label.sk-toggleable__label-arrow:before {content: \"▾\";}#sk-container-id-1 div.sk-estimator input.sk-toggleable__control:checked~label.sk-toggleable__label {background-color: #d4ebff;}#sk-container-id-1 div.sk-label input.sk-toggleable__control:checked~label.sk-toggleable__label {background-color: #d4ebff;}#sk-container-id-1 input.sk-hidden--visually {border: 0;clip: rect(1px 1px 1px 1px);clip: rect(1px, 1px, 1px, 1px);height: 1px;margin: -1px;overflow: hidden;padding: 0;position: absolute;width: 1px;}#sk-container-id-1 div.sk-estimator {font-family: monospace;background-color: #f0f8ff;border: 1px dotted black;border-radius: 0.25em;box-sizing: border-box;margin-bottom: 0.5em;}#sk-container-id-1 div.sk-estimator:hover {background-color: #d4ebff;}#sk-container-id-1 div.sk-parallel-item::after {content: \"\";width: 100%;border-bottom: 1px solid gray;flex-grow: 1;}#sk-container-id-1 div.sk-label:hover label.sk-toggleable__label {background-color: #d4ebff;}#sk-container-id-1 div.sk-serial::before {content: \"\";position: absolute;border-left: 1px solid gray;box-sizing: border-box;top: 0;bottom: 0;left: 50%;z-index: 0;}#sk-container-id-1 div.sk-serial {display: flex;flex-direction: column;align-items: center;background-color: white;padding-right: 0.2em;padding-left: 0.2em;position: relative;}#sk-container-id-1 div.sk-item {position: relative;z-index: 1;}#sk-container-id-1 div.sk-parallel {display: flex;align-items: stretch;justify-content: center;background-color: white;position: relative;}#sk-container-id-1 div.sk-item::before, #sk-container-id-1 div.sk-parallel-item::before {content: \"\";position: absolute;border-left: 1px solid gray;box-sizing: border-box;top: 0;bottom: 0;left: 50%;z-index: -1;}#sk-container-id-1 div.sk-parallel-item {display: flex;flex-direction: column;z-index: 1;position: relative;background-color: white;}#sk-container-id-1 div.sk-parallel-item:first-child::after {align-self: flex-end;width: 50%;}#sk-container-id-1 div.sk-parallel-item:last-child::after {align-self: flex-start;width: 50%;}#sk-container-id-1 div.sk-parallel-item:only-child::after {width: 0;}#sk-container-id-1 div.sk-dashed-wrapped {border: 1px dashed gray;margin: 0 0.4em 0.5em 0.4em;box-sizing: border-box;padding-bottom: 0.4em;background-color: white;}#sk-container-id-1 div.sk-label label {font-family: monospace;font-weight: bold;display: inline-block;line-height: 1.2em;}#sk-container-id-1 div.sk-label-container {text-align: center;}#sk-container-id-1 div.sk-container {/* jupyter's `normalize.less` sets `[hidden] { display: none; }` but bootstrap.min.css set `[hidden] { display: none !important; }` so we also need the `!important` here to be able to override the default hidden behavior on the sphinx rendered scikit-learn.org. See: https://github.com/scikit-learn/scikit-learn/issues/21755 */display: inline-block !important;position: relative;}#sk-container-id-1 div.sk-text-repr-fallback {display: none;}</style><div id=\"sk-container-id-1\" class=\"sk-top-container\"><div class=\"sk-text-repr-fallback\"><pre>LogisticRegression(C=56.898, max_iter=300, multi_class=&#x27;ovr&#x27;, n_jobs=15)</pre><b>In a Jupyter environment, please rerun this cell to show the HTML representation or trust the notebook. <br />On GitHub, the HTML representation is unable to render, please try loading this page with nbviewer.org.</b></div><div class=\"sk-container\" hidden><div class=\"sk-item\"><div class=\"sk-estimator sk-toggleable\"><input class=\"sk-toggleable__control sk-hidden--visually\" id=\"sk-estimator-id-1\" type=\"checkbox\" checked><label for=\"sk-estimator-id-1\" class=\"sk-toggleable__label sk-toggleable__label-arrow\">LogisticRegression</label><div class=\"sk-toggleable__content\"><pre>LogisticRegression(C=56.898, max_iter=300, multi_class=&#x27;ovr&#x27;, n_jobs=15)</pre></div></div></div></div></div>"
      ],
      "text/plain": [
       "LogisticRegression(C=56.898, max_iter=300, multi_class='ovr', n_jobs=15)"
      ]
     },
     "execution_count": 8,
     "metadata": {},
     "output_type": "execute_result"
    }
   ],
   "source": [
    "from sklearn.linear_model import LogisticRegression\n",
    "from sklearn.pipeline import make_pipeline\n",
    "from sklearn import metrics\n",
    "\n",
    "model = LogisticRegression(penalty=\"l2\", C=56.898, multi_class=\"ovr\", verbose=0, n_jobs=15, max_iter=300)\n",
    "print(\"Fit logistic regression...\")\n",
    "%time model.fit(train_tfidf, train_df[\"Y\"])\n",
    "\n"
   ]
  },
  {
   "cell_type": "markdown",
   "id": "5040cbb7-b69a-4d82-ba18-40e6afc236d9",
   "metadata": {
    "tags": []
   },
   "source": [
    "### 2.LOC.4 Inference"
   ]
  },
  {
   "cell_type": "code",
   "execution_count": 9,
   "id": "ec6cba9f-6e53-4984-91a9-5e93f3f85b30",
   "metadata": {
    "tags": []
   },
   "outputs": [
    {
     "data": {
      "text/plain": [
       "0.8605030652969825"
      ]
     },
     "execution_count": 9,
     "metadata": {},
     "output_type": "execute_result"
    }
   ],
   "source": [
    "pred = model.predict(test_tfidf)\n",
    "metrics.f1_score(newsgroups_test.target, pred, average='macro')"
   ]
  },
  {
   "cell_type": "code",
   "execution_count": 10,
   "id": "05cf2d6f-20f6-4a4e-83c0-701dc6a00194",
   "metadata": {
    "tags": []
   },
   "outputs": [
    {
     "data": {
      "text/plain": [
       "array([[0.28498294, 0.03583618, 0.01365188],\n",
       "       [0.04692833, 0.26706485, 0.01450512],\n",
       "       [0.01279863, 0.01535836, 0.30887372]])"
      ]
     },
     "execution_count": 10,
     "metadata": {},
     "output_type": "execute_result"
    }
   ],
   "source": [
    "from sklearn.metrics import confusion_matrix\n",
    "cm = confusion_matrix(newsgroups_test.target, pred)\n",
    "cm = cm/len(pred)\n",
    "cm"
   ]
  },
  {
   "cell_type": "code",
   "execution_count": 11,
   "id": "5384b02e-c27e-40f9-8dc2-2bda35b47d78",
   "metadata": {
    "tags": []
   },
   "outputs": [
    {
     "data": {
      "text/plain": [
       "<Axes: >"
      ]
     },
     "execution_count": 11,
     "metadata": {},
     "output_type": "execute_result"
    },
    {
     "data": {
      "image/png": "[encoded data removed]",
      "text/plain": [
       "<Figure size 640x480 with 2 Axes>"
      ]
     },
     "metadata": {},
     "output_type": "display_data"
    }
   ],
   "source": [
    "sns.heatmap(cm, annot=True, fmt='.2%', cmap='Blues')"
   ]
  },
  {
   "cell_type": "markdown",
   "id": "b5e42975-807b-44ba-b132-92b71ccf690e",
   "metadata": {},
   "source": [
    "## 2.SNOW The Snowflake Way"
   ]
  },
  {
   "cell_type": "markdown",
   "id": "7076638a-d27b-4928-be8e-791107315087",
   "metadata": {
    "tags": []
   },
   "source": [
    "### 2.SNOW.1 Stopwords Test"
   ]
  },
  {
   "cell_type": "code",
   "execution_count": 13,
   "id": "f0e11077-2943-4168-9f61-687f53c37447",
   "metadata": {
    "tags": []
   },
   "outputs": [
    {
     "name": "stderr",
     "output_type": "stream",
     "text": [
      "The version of package 'regex' in the local environment is 2023.8.8, which does not fit the criteria for the requirement 'regex'. Your UDF might not work when the package version is different between the server and your local environment.\n"
     ]
    }
   ],
   "source": [
    "@sproc(session=session, name='hello_world_test', stage_location='@CD_STAGE',  \n",
    "       packages=['snowflake-snowpark-python', 'regex', 'nltk'], \n",
    "       is_permanent=True, \n",
    "       replace=True)\n",
    "def hello_world_test(session: Session) -> str:\n",
    "    hello_world = 'hello world'\n",
    "    return hello_world"
   ]
  },
  {
   "cell_type": "code",
   "execution_count": 14,
   "id": "53ebd420-ba9d-4ed4-9d5a-93255fbd8d71",
   "metadata": {
    "tags": []
   },
   "outputs": [
    {
     "data": {
      "text/plain": [
       "'hello world'"
      ]
     },
     "execution_count": 14,
     "metadata": {},
     "output_type": "execute_result"
    }
   ],
   "source": [
    "hello_world_test()"
   ]
  },
  {
   "cell_type": "code",
   "execution_count": 14,
   "id": "24fd71d0-db8c-431f-87e0-1993bfaff7f8",
   "metadata": {},
   "outputs": [],
   "source": [
    "# Now try and create your own Sproc that returns the stop words\n",
    "\n",
    "\n",
    "\n",
    "\n",
    "\n"
   ]
  },
  {
   "cell_type": "markdown",
   "id": "415b6921-96e6-41ee-940a-2ceea6fcbe06",
   "metadata": {
    "tags": []
   },
   "source": [
    "### 2.SNOW.1 Stopwords Solution"
   ]
  },
  {
   "cell_type": "code",
   "execution_count": 15,
   "id": "b8844fcd-5c6d-41a9-8fed-c02dc1fd8d10",
   "metadata": {
    "tags": []
   },
   "outputs": [
    {
     "name": "stderr",
     "output_type": "stream",
     "text": [
      "The version of package 'regex' in the local environment is 2023.8.8, which does not fit the criteria for the requirement 'regex'. Your UDF might not work when the package version is different between the server and your local environment.\n"
     ]
    }
   ],
   "source": [
    "# Solution\n",
    "@sproc(session=session, name='get_stopwords_v1', stage_location='@CD_STAGE',  \n",
    "       packages=['snowflake-snowpark-python', 'regex', 'nltk'], \n",
    "       is_permanent=True, \n",
    "       replace=True)\n",
    "def sproc_test_stopwords_v1(session: Session) -> list:\n",
    "    import nltk\n",
    "    nltk.download('stopwords')\n",
    "    stopwords = nltk.corpus.stopwords.words(\"english\")\n",
    "    return stopwords\n"
   ]
  },
  {
   "cell_type": "code",
   "execution_count": 16,
   "id": "bbdda777-4dc9-4619-ae8c-f7d5d064f888",
   "metadata": {
    "tags": []
   },
   "outputs": [
    {
     "ename": "SnowparkSQLException",
     "evalue": "(1304): 01aeef15-0000-90a4-0000-f149003df012: 100357 (P0000): Python Interpreter Error:\nTraceback (most recent call last):\n  File \"/usr/lib/python_udf/7b1e9c1de04786808c181f8047dc965cc86b29c4c67f6d3ffa840e844504720a/lib/python3.9/site-packages/nltk/corpus/util.py\", line 84, in __load\n    root = nltk.data.find(f\"{self.subdir}/{zip_name}\")\n  File \"/usr/lib/python_udf/7b1e9c1de04786808c181f8047dc965cc86b29c4c67f6d3ffa840e844504720a/lib/python3.9/site-packages/nltk/data.py\", line 583, in find\n    raise LookupError(resource_not_found)\nLookupError: \n**********************************************************************\n  Resource \u001b[93mstopwords\u001b[0m not found.\n  Please use the NLTK Downloader to obtain the resource:\n\n  \u001b[31m>>> import nltk\n  >>> nltk.download('stopwords')\n  \u001b[0m\n  For more information see: https://www.nltk.org/data.html\n\n  Attempted to load \u001b[93mcorpora/stopwords.zip/stopwords/\u001b[0m\n\n  Searched in:\n    - '/home/udf/nltk_data'\n    - '/usr/lib/python_udf/7b1e9c1de04786808c181f8047dc965cc86b29c4c67f6d3ffa840e844504720a/nltk_data'\n    - '/usr/lib/python_udf/7b1e9c1de04786808c181f8047dc965cc86b29c4c67f6d3ffa840e844504720a/share/nltk_data'\n    - '/usr/lib/python_udf/7b1e9c1de04786808c181f8047dc965cc86b29c4c67f6d3ffa840e844504720a/lib/nltk_data'\n    - '/usr/share/nltk_data'\n    - '/usr/local/share/nltk_data'\n    - '/usr/lib/nltk_data'\n    - '/usr/local/lib/nltk_data'\n**********************************************************************\n\n\nDuring handling of the above exception, another exception occurred:\n\nTraceback (most recent call last):\n  File \"_udf_code.py\", line 19, in compute\n  File \"/var/folders/97/8vc6xcbx4zd06p75xg9frdrw0000gn/T/ipykernel_23661/2598087368.py\", line 9, in sproc_test_stopwords_v1\n  File \"/usr/lib/python_udf/7b1e9c1de04786808c181f8047dc965cc86b29c4c67f6d3ffa840e844504720a/lib/python3.9/site-packages/nltk/corpus/util.py\", line 121, in __getattr__\n    self.__load()\n  File \"/usr/lib/python_udf/7b1e9c1de04786808c181f8047dc965cc86b29c4c67f6d3ffa840e844504720a/lib/python3.9/site-packages/nltk/corpus/util.py\", line 86, in __load\n    raise e\n  File \"/usr/lib/python_udf/7b1e9c1de04786808c181f8047dc965cc86b29c4c67f6d3ffa840e844504720a/lib/python3.9/site-packages/nltk/corpus/util.py\", line 81, in __load\n    root = nltk.data.find(f\"{self.subdir}/{self.__name}\")\n  File \"/usr/lib/python_udf/7b1e9c1de04786808c181f8047dc965cc86b29c4c67f6d3ffa840e844504720a/lib/python3.9/site-packages/nltk/data.py\", line 583, in find\n    raise LookupError(resource_not_found)\nLookupError: \n**********************************************************************\n  Resource \u001b[93mstopwords\u001b[0m not found.\n  Please use the NLTK Downloader to obtain the resource:\n\n  \u001b[31m>>> import nltk\n  >>> nltk.download('stopwords')\n  \u001b[0m\n  For more information see: https://www.nltk.org/data.html\n\n  Attempted to load \u001b[93mcorpora/stopwords\u001b[0m\n\n  Searched in:\n    - '/home/udf/nltk_data'\n    - '/usr/lib/python_udf/7b1e9c1de04786808c181f8047dc965cc86b29c4c67f6d3ffa840e844504720a/nltk_data'\n    - '/usr/lib/python_udf/7b1e9c1de04786808c181f8047dc965cc86b29c4c67f6d3ffa840e844504720a/share/nltk_data'\n    - '/usr/lib/python_udf/7b1e9c1de04786808c181f8047dc965cc86b29c4c67f6d3ffa840e844504720a/lib/nltk_data'\n    - '/usr/share/nltk_data'\n    - '/usr/local/share/nltk_data'\n    - '/usr/lib/nltk_data'\n    - '/usr/local/lib/nltk_data'\n**********************************************************************\n\n in function GET_STOPWORDS_V1 with handler compute",
     "output_type": "error",
     "traceback": [
      "\u001b[0;31m---------------------------------------------------------------------------\u001b[0m",
      "\u001b[0;31mSnowparkSQLException\u001b[0m                      Traceback (most recent call last)",
      "Cell \u001b[0;32mIn[16], line 1\u001b[0m\n\u001b[0;32m----> 1\u001b[0m \u001b[43msproc_test_stopwords_v1\u001b[49m\u001b[43m(\u001b[49m\u001b[43m)\u001b[49m\n",
      "File \u001b[0;32m~/opt/anaconda3/envs/xavier_test/lib/python3.9/site-packages/snowflake/snowpark/stored_procedure.py:109\u001b[0m, in \u001b[0;36mStoredProcedure.__call__\u001b[0;34m(self, session, *args)\u001b[0m\n\u001b[1;32m    107\u001b[0m     \u001b[38;5;28;01mreturn\u001b[39;00m df\u001b[38;5;241m.\u001b[39mcollect()[\u001b[38;5;241m0\u001b[39m][\u001b[38;5;241m0\u001b[39m]\n\u001b[1;32m    108\u001b[0m \u001b[38;5;28;01melse\u001b[39;00m:\n\u001b[0;32m--> 109\u001b[0m     \u001b[38;5;28;01mreturn\u001b[39;00m \u001b[43msession\u001b[49m\u001b[38;5;241;43m.\u001b[39;49m\u001b[43m_call\u001b[49m\u001b[43m(\u001b[49m\n\u001b[1;32m    110\u001b[0m \u001b[43m        \u001b[49m\u001b[38;5;28;43mself\u001b[39;49m\u001b[38;5;241;43m.\u001b[39;49m\u001b[43mname\u001b[49m\u001b[43m,\u001b[49m\u001b[43m \u001b[49m\u001b[38;5;241;43m*\u001b[39;49m\u001b[43margs\u001b[49m\u001b[43m,\u001b[49m\u001b[43m \u001b[49m\u001b[43mis_return_table\u001b[49m\u001b[38;5;241;43m=\u001b[39;49m\u001b[38;5;28;43mself\u001b[39;49m\u001b[38;5;241;43m.\u001b[39;49m\u001b[43m_is_return_table\u001b[49m\n\u001b[1;32m    111\u001b[0m \u001b[43m    \u001b[49m\u001b[43m)\u001b[49m\n",
      "File \u001b[0;32m~/opt/anaconda3/envs/xavier_test/lib/python3.9/site-packages/snowflake/snowpark/session.py:2375\u001b[0m, in \u001b[0;36mSession._call\u001b[0;34m(self, sproc_name, statement_params, is_return_table, *args)\u001b[0m\n\u001b[1;32m   2373\u001b[0m \u001b[38;5;28;01mif\u001b[39;00m is_return_table:\n\u001b[1;32m   2374\u001b[0m     \u001b[38;5;28;01mreturn\u001b[39;00m df\n\u001b[0;32m-> 2375\u001b[0m \u001b[38;5;28;01mreturn\u001b[39;00m \u001b[43mdf\u001b[49m\u001b[38;5;241;43m.\u001b[39;49m\u001b[43mcollect\u001b[49m\u001b[43m(\u001b[49m\u001b[43mstatement_params\u001b[49m\u001b[38;5;241;43m=\u001b[39;49m\u001b[43mstatement_params\u001b[49m\u001b[43m)\u001b[49m[\u001b[38;5;241m0\u001b[39m][\u001b[38;5;241m0\u001b[39m]\n",
      "File \u001b[0;32m~/opt/anaconda3/envs/xavier_test/lib/python3.9/site-packages/snowflake/snowpark/_internal/telemetry.py:139\u001b[0m, in \u001b[0;36mdf_collect_api_telemetry.<locals>.wrap\u001b[0;34m(*args, **kwargs)\u001b[0m\n\u001b[1;32m    136\u001b[0m \u001b[38;5;129m@functools\u001b[39m\u001b[38;5;241m.\u001b[39mwraps(func)\n\u001b[1;32m    137\u001b[0m \u001b[38;5;28;01mdef\u001b[39;00m \u001b[38;5;21mwrap\u001b[39m(\u001b[38;5;241m*\u001b[39margs, \u001b[38;5;241m*\u001b[39m\u001b[38;5;241m*\u001b[39mkwargs):\n\u001b[1;32m    138\u001b[0m     \u001b[38;5;28;01mwith\u001b[39;00m args[\u001b[38;5;241m0\u001b[39m]\u001b[38;5;241m.\u001b[39m_session\u001b[38;5;241m.\u001b[39mquery_history() \u001b[38;5;28;01mas\u001b[39;00m query_history:\n\u001b[0;32m--> 139\u001b[0m         result \u001b[38;5;241m=\u001b[39m \u001b[43mfunc\u001b[49m\u001b[43m(\u001b[49m\u001b[38;5;241;43m*\u001b[39;49m\u001b[43margs\u001b[49m\u001b[43m,\u001b[49m\u001b[43m \u001b[49m\u001b[38;5;241;43m*\u001b[39;49m\u001b[38;5;241;43m*\u001b[39;49m\u001b[43mkwargs\u001b[49m\u001b[43m)\u001b[49m\n\u001b[1;32m    140\u001b[0m     plan \u001b[38;5;241m=\u001b[39m args[\u001b[38;5;241m0\u001b[39m]\u001b[38;5;241m.\u001b[39m_select_statement \u001b[38;5;129;01mor\u001b[39;00m args[\u001b[38;5;241m0\u001b[39m]\u001b[38;5;241m.\u001b[39m_plan\n\u001b[1;32m    141\u001b[0m     api_calls \u001b[38;5;241m=\u001b[39m [\n\u001b[1;32m    142\u001b[0m         \u001b[38;5;241m*\u001b[39mplan\u001b[38;5;241m.\u001b[39mapi_calls,\n\u001b[1;32m    143\u001b[0m         {TelemetryField\u001b[38;5;241m.\u001b[39mNAME\u001b[38;5;241m.\u001b[39mvalue: \u001b[38;5;124mf\u001b[39m\u001b[38;5;124m\"\u001b[39m\u001b[38;5;124mDataFrame.\u001b[39m\u001b[38;5;132;01m{\u001b[39;00mfunc\u001b[38;5;241m.\u001b[39m\u001b[38;5;18m__name__\u001b[39m\u001b[38;5;132;01m}\u001b[39;00m\u001b[38;5;124m\"\u001b[39m},\n\u001b[1;32m    144\u001b[0m     ]\n",
      "File \u001b[0;32m~/opt/anaconda3/envs/xavier_test/lib/python3.9/site-packages/snowflake/snowpark/dataframe.py:588\u001b[0m, in \u001b[0;36mDataFrame.collect\u001b[0;34m(self, statement_params, block, log_on_exception, case_sensitive)\u001b[0m\n\u001b[1;32m    565\u001b[0m \u001b[38;5;129m@df_collect_api_telemetry\u001b[39m\n\u001b[1;32m    566\u001b[0m \u001b[38;5;28;01mdef\u001b[39;00m \u001b[38;5;21mcollect\u001b[39m(\n\u001b[1;32m    567\u001b[0m     \u001b[38;5;28mself\u001b[39m,\n\u001b[0;32m   (...)\u001b[0m\n\u001b[1;32m    572\u001b[0m     case_sensitive: \u001b[38;5;28mbool\u001b[39m \u001b[38;5;241m=\u001b[39m \u001b[38;5;28;01mTrue\u001b[39;00m,\n\u001b[1;32m    573\u001b[0m ) \u001b[38;5;241m-\u001b[39m\u001b[38;5;241m>\u001b[39m Union[List[Row], AsyncJob]:\n\u001b[1;32m    574\u001b[0m \u001b[38;5;250m    \u001b[39m\u001b[38;5;124;03m\"\"\"Executes the query representing this DataFrame and returns the result as a\u001b[39;00m\n\u001b[1;32m    575\u001b[0m \u001b[38;5;124;03m    list of :class:`Row` objects.\u001b[39;00m\n\u001b[1;32m    576\u001b[0m \n\u001b[0;32m   (...)\u001b[0m\n\u001b[1;32m    586\u001b[0m \u001b[38;5;124;03m        :meth:`collect_nowait()`\u001b[39;00m\n\u001b[1;32m    587\u001b[0m \u001b[38;5;124;03m    \"\"\"\u001b[39;00m\n\u001b[0;32m--> 588\u001b[0m     \u001b[38;5;28;01mreturn\u001b[39;00m \u001b[38;5;28;43mself\u001b[39;49m\u001b[38;5;241;43m.\u001b[39;49m\u001b[43m_internal_collect_with_tag_no_telemetry\u001b[49m\u001b[43m(\u001b[49m\n\u001b[1;32m    589\u001b[0m \u001b[43m        \u001b[49m\u001b[43mstatement_params\u001b[49m\u001b[38;5;241;43m=\u001b[39;49m\u001b[43mstatement_params\u001b[49m\u001b[43m,\u001b[49m\n\u001b[1;32m    590\u001b[0m \u001b[43m        \u001b[49m\u001b[43mblock\u001b[49m\u001b[38;5;241;43m=\u001b[39;49m\u001b[43mblock\u001b[49m\u001b[43m,\u001b[49m\n\u001b[1;32m    591\u001b[0m \u001b[43m        \u001b[49m\u001b[43mlog_on_exception\u001b[49m\u001b[38;5;241;43m=\u001b[39;49m\u001b[43mlog_on_exception\u001b[49m\u001b[43m,\u001b[49m\n\u001b[1;32m    592\u001b[0m \u001b[43m        \u001b[49m\u001b[43mcase_sensitive\u001b[49m\u001b[38;5;241;43m=\u001b[39;49m\u001b[43mcase_sensitive\u001b[49m\u001b[43m,\u001b[49m\n\u001b[1;32m    593\u001b[0m \u001b[43m    \u001b[49m\u001b[43m)\u001b[49m\n",
      "File \u001b[0;32m~/opt/anaconda3/envs/xavier_test/lib/python3.9/site-packages/snowflake/snowpark/dataframe.py:635\u001b[0m, in \u001b[0;36mDataFrame._internal_collect_with_tag_no_telemetry\u001b[0;34m(self, statement_params, block, data_type, log_on_exception, case_sensitive)\u001b[0m\n\u001b[1;32m    623\u001b[0m \u001b[38;5;28;01mdef\u001b[39;00m \u001b[38;5;21m_internal_collect_with_tag_no_telemetry\u001b[39m(\n\u001b[1;32m    624\u001b[0m     \u001b[38;5;28mself\u001b[39m,\n\u001b[1;32m    625\u001b[0m     \u001b[38;5;241m*\u001b[39m,\n\u001b[0;32m   (...)\u001b[0m\n\u001b[1;32m    633\u001b[0m     \u001b[38;5;66;03m# we should always call this method instead of collect(), to make sure the\u001b[39;00m\n\u001b[1;32m    634\u001b[0m     \u001b[38;5;66;03m# query tag is set properly.\u001b[39;00m\n\u001b[0;32m--> 635\u001b[0m     \u001b[38;5;28;01mreturn\u001b[39;00m \u001b[38;5;28;43mself\u001b[39;49m\u001b[38;5;241;43m.\u001b[39;49m\u001b[43m_session\u001b[49m\u001b[38;5;241;43m.\u001b[39;49m\u001b[43m_conn\u001b[49m\u001b[38;5;241;43m.\u001b[39;49m\u001b[43mexecute\u001b[49m\u001b[43m(\u001b[49m\n\u001b[1;32m    636\u001b[0m \u001b[43m        \u001b[49m\u001b[38;5;28;43mself\u001b[39;49m\u001b[38;5;241;43m.\u001b[39;49m\u001b[43m_plan\u001b[49m\u001b[43m,\u001b[49m\n\u001b[1;32m    637\u001b[0m \u001b[43m        \u001b[49m\u001b[43mblock\u001b[49m\u001b[38;5;241;43m=\u001b[39;49m\u001b[43mblock\u001b[49m\u001b[43m,\u001b[49m\n\u001b[1;32m    638\u001b[0m \u001b[43m        \u001b[49m\u001b[43mdata_type\u001b[49m\u001b[38;5;241;43m=\u001b[39;49m\u001b[43mdata_type\u001b[49m\u001b[43m,\u001b[49m\n\u001b[1;32m    639\u001b[0m \u001b[43m        \u001b[49m\u001b[43m_statement_params\u001b[49m\u001b[38;5;241;43m=\u001b[39;49m\u001b[43mcreate_or_update_statement_params_with_query_tag\u001b[49m\u001b[43m(\u001b[49m\n\u001b[1;32m    640\u001b[0m \u001b[43m            \u001b[49m\u001b[43mstatement_params\u001b[49m\u001b[43m \u001b[49m\u001b[38;5;129;43;01mor\u001b[39;49;00m\u001b[43m \u001b[49m\u001b[38;5;28;43mself\u001b[39;49m\u001b[38;5;241;43m.\u001b[39;49m\u001b[43m_statement_params\u001b[49m\u001b[43m,\u001b[49m\n\u001b[1;32m    641\u001b[0m \u001b[43m            \u001b[49m\u001b[38;5;28;43mself\u001b[39;49m\u001b[38;5;241;43m.\u001b[39;49m\u001b[43m_session\u001b[49m\u001b[38;5;241;43m.\u001b[39;49m\u001b[43mquery_tag\u001b[49m\u001b[43m,\u001b[49m\n\u001b[1;32m    642\u001b[0m \u001b[43m            \u001b[49m\u001b[43mSKIP_LEVELS_THREE\u001b[49m\u001b[43m,\u001b[49m\n\u001b[1;32m    643\u001b[0m \u001b[43m        \u001b[49m\u001b[43m)\u001b[49m\u001b[43m,\u001b[49m\n\u001b[1;32m    644\u001b[0m \u001b[43m        \u001b[49m\u001b[43mlog_on_exception\u001b[49m\u001b[38;5;241;43m=\u001b[39;49m\u001b[43mlog_on_exception\u001b[49m\u001b[43m,\u001b[49m\n\u001b[1;32m    645\u001b[0m \u001b[43m        \u001b[49m\u001b[43mcase_sensitive\u001b[49m\u001b[38;5;241;43m=\u001b[39;49m\u001b[43mcase_sensitive\u001b[49m\u001b[43m,\u001b[49m\n\u001b[1;32m    646\u001b[0m \u001b[43m    \u001b[49m\u001b[43m)\u001b[49m\n",
      "File \u001b[0;32m~/opt/anaconda3/envs/xavier_test/lib/python3.9/site-packages/snowflake/snowpark/_internal/server_connection.py:445\u001b[0m, in \u001b[0;36mServerConnection.execute\u001b[0;34m(self, plan, to_pandas, to_iter, block, data_type, log_on_exception, case_sensitive, **kwargs)\u001b[0m\n\u001b[1;32m    441\u001b[0m \u001b[38;5;28;01mif\u001b[39;00m is_in_stored_procedure() \u001b[38;5;129;01mand\u001b[39;00m \u001b[38;5;129;01mnot\u001b[39;00m block:  \u001b[38;5;66;03m# pragma: no cover\u001b[39;00m\n\u001b[1;32m    442\u001b[0m     \u001b[38;5;28;01mraise\u001b[39;00m \u001b[38;5;167;01mNotImplementedError\u001b[39;00m(\n\u001b[1;32m    443\u001b[0m         \u001b[38;5;124m\"\u001b[39m\u001b[38;5;124mAsync query is not supported in stored procedure yet\u001b[39m\u001b[38;5;124m\"\u001b[39m\n\u001b[1;32m    444\u001b[0m     )\n\u001b[0;32m--> 445\u001b[0m result_set, result_meta \u001b[38;5;241m=\u001b[39m \u001b[38;5;28;43mself\u001b[39;49m\u001b[38;5;241;43m.\u001b[39;49m\u001b[43mget_result_set\u001b[49m\u001b[43m(\u001b[49m\n\u001b[1;32m    446\u001b[0m \u001b[43m    \u001b[49m\u001b[43mplan\u001b[49m\u001b[43m,\u001b[49m\n\u001b[1;32m    447\u001b[0m \u001b[43m    \u001b[49m\u001b[43mto_pandas\u001b[49m\u001b[43m,\u001b[49m\n\u001b[1;32m    448\u001b[0m \u001b[43m    \u001b[49m\u001b[43mto_iter\u001b[49m\u001b[43m,\u001b[49m\n\u001b[1;32m    449\u001b[0m \u001b[43m    \u001b[49m\u001b[38;5;241;43m*\u001b[39;49m\u001b[38;5;241;43m*\u001b[39;49m\u001b[43mkwargs\u001b[49m\u001b[43m,\u001b[49m\n\u001b[1;32m    450\u001b[0m \u001b[43m    \u001b[49m\u001b[43mblock\u001b[49m\u001b[38;5;241;43m=\u001b[39;49m\u001b[43mblock\u001b[49m\u001b[43m,\u001b[49m\n\u001b[1;32m    451\u001b[0m \u001b[43m    \u001b[49m\u001b[43mdata_type\u001b[49m\u001b[38;5;241;43m=\u001b[39;49m\u001b[43mdata_type\u001b[49m\u001b[43m,\u001b[49m\n\u001b[1;32m    452\u001b[0m \u001b[43m    \u001b[49m\u001b[43mlog_on_exception\u001b[49m\u001b[38;5;241;43m=\u001b[39;49m\u001b[43mlog_on_exception\u001b[49m\u001b[43m,\u001b[49m\n\u001b[1;32m    453\u001b[0m \u001b[43m    \u001b[49m\u001b[43mcase_sensitive\u001b[49m\u001b[38;5;241;43m=\u001b[39;49m\u001b[43mcase_sensitive\u001b[49m\u001b[43m,\u001b[49m\n\u001b[1;32m    454\u001b[0m \u001b[43m\u001b[49m\u001b[43m)\u001b[49m\n\u001b[1;32m    455\u001b[0m \u001b[38;5;28;01mif\u001b[39;00m \u001b[38;5;129;01mnot\u001b[39;00m block:\n\u001b[1;32m    456\u001b[0m     \u001b[38;5;28;01mreturn\u001b[39;00m result_set\n",
      "File \u001b[0;32m~/opt/anaconda3/envs/xavier_test/lib/python3.9/site-packages/snowflake/snowpark/_internal/analyzer/snowflake_plan.py:181\u001b[0m, in \u001b[0;36mSnowflakePlan.Decorator.wrap_exception.<locals>.wrap\u001b[0;34m(*args, **kwargs)\u001b[0m\n\u001b[1;32m    177\u001b[0m \u001b[38;5;28;01melse\u001b[39;00m:\n\u001b[1;32m    178\u001b[0m     ne \u001b[38;5;241m=\u001b[39m SnowparkClientExceptionMessages\u001b[38;5;241m.\u001b[39mSQL_EXCEPTION_FROM_PROGRAMMING_ERROR(\n\u001b[1;32m    179\u001b[0m         e\n\u001b[1;32m    180\u001b[0m     )\n\u001b[0;32m--> 181\u001b[0m     \u001b[38;5;28;01mraise\u001b[39;00m ne\u001b[38;5;241m.\u001b[39mwith_traceback(tb) \u001b[38;5;28;01mfrom\u001b[39;00m \u001b[38;5;28;01mNone\u001b[39;00m\n",
      "File \u001b[0;32m~/opt/anaconda3/envs/xavier_test/lib/python3.9/site-packages/snowflake/snowpark/_internal/analyzer/snowflake_plan.py:111\u001b[0m, in \u001b[0;36mSnowflakePlan.Decorator.wrap_exception.<locals>.wrap\u001b[0;34m(*args, **kwargs)\u001b[0m\n\u001b[1;32m    109\u001b[0m \u001b[38;5;28;01mdef\u001b[39;00m \u001b[38;5;21mwrap\u001b[39m(\u001b[38;5;241m*\u001b[39margs, \u001b[38;5;241m*\u001b[39m\u001b[38;5;241m*\u001b[39mkwargs):\n\u001b[1;32m    110\u001b[0m     \u001b[38;5;28;01mtry\u001b[39;00m:\n\u001b[0;32m--> 111\u001b[0m         \u001b[38;5;28;01mreturn\u001b[39;00m \u001b[43mfunc\u001b[49m\u001b[43m(\u001b[49m\u001b[38;5;241;43m*\u001b[39;49m\u001b[43margs\u001b[49m\u001b[43m,\u001b[49m\u001b[43m \u001b[49m\u001b[38;5;241;43m*\u001b[39;49m\u001b[38;5;241;43m*\u001b[39;49m\u001b[43mkwargs\u001b[49m\u001b[43m)\u001b[49m\n\u001b[1;32m    112\u001b[0m     \u001b[38;5;28;01mexcept\u001b[39;00m snowflake\u001b[38;5;241m.\u001b[39mconnector\u001b[38;5;241m.\u001b[39merrors\u001b[38;5;241m.\u001b[39mProgrammingError \u001b[38;5;28;01mas\u001b[39;00m e:\n\u001b[1;32m    113\u001b[0m         query \u001b[38;5;241m=\u001b[39m \u001b[38;5;28;01mNone\u001b[39;00m\n",
      "File \u001b[0;32m~/opt/anaconda3/envs/xavier_test/lib/python3.9/site-packages/snowflake/snowpark/_internal/server_connection.py:546\u001b[0m, in \u001b[0;36mServerConnection.get_result_set\u001b[0;34m(self, plan, to_pandas, to_iter, block, data_type, log_on_exception, case_sensitive, **kwargs)\u001b[0m\n\u001b[1;32m    544\u001b[0m \u001b[38;5;28;01mfor\u001b[39;00m holder, id_ \u001b[38;5;129;01min\u001b[39;00m placeholders\u001b[38;5;241m.\u001b[39mitems():\n\u001b[1;32m    545\u001b[0m     final_query \u001b[38;5;241m=\u001b[39m final_query\u001b[38;5;241m.\u001b[39mreplace(holder, id_)\n\u001b[0;32m--> 546\u001b[0m result \u001b[38;5;241m=\u001b[39m \u001b[38;5;28;43mself\u001b[39;49m\u001b[38;5;241;43m.\u001b[39;49m\u001b[43mrun_query\u001b[49m\u001b[43m(\u001b[49m\n\u001b[1;32m    547\u001b[0m \u001b[43m    \u001b[49m\u001b[43mfinal_query\u001b[49m\u001b[43m,\u001b[49m\n\u001b[1;32m    548\u001b[0m \u001b[43m    \u001b[49m\u001b[43mto_pandas\u001b[49m\u001b[43m,\u001b[49m\n\u001b[1;32m    549\u001b[0m \u001b[43m    \u001b[49m\u001b[43mto_iter\u001b[49m\u001b[43m \u001b[49m\u001b[38;5;129;43;01mand\u001b[39;49;00m\u001b[43m \u001b[49m\u001b[43m(\u001b[49m\u001b[43mi\u001b[49m\u001b[43m \u001b[49m\u001b[38;5;241;43m==\u001b[39;49m\u001b[43m \u001b[49m\u001b[38;5;28;43mlen\u001b[39;49m\u001b[43m(\u001b[49m\u001b[43mplan\u001b[49m\u001b[38;5;241;43m.\u001b[39;49m\u001b[43mqueries\u001b[49m\u001b[43m)\u001b[49m\u001b[43m \u001b[49m\u001b[38;5;241;43m-\u001b[39;49m\u001b[43m \u001b[49m\u001b[38;5;241;43m1\u001b[39;49m\u001b[43m)\u001b[49m\u001b[43m,\u001b[49m\n\u001b[1;32m    550\u001b[0m \u001b[43m    \u001b[49m\u001b[43mis_ddl_on_temp_object\u001b[49m\u001b[38;5;241;43m=\u001b[39;49m\u001b[43mquery\u001b[49m\u001b[38;5;241;43m.\u001b[39;49m\u001b[43mis_ddl_on_temp_object\u001b[49m\u001b[43m,\u001b[49m\n\u001b[1;32m    551\u001b[0m \u001b[43m    \u001b[49m\u001b[43mblock\u001b[49m\u001b[38;5;241;43m=\u001b[39;49m\u001b[38;5;129;43;01mnot\u001b[39;49;00m\u001b[43m \u001b[49m\u001b[43mis_last\u001b[49m\u001b[43m,\u001b[49m\n\u001b[1;32m    552\u001b[0m \u001b[43m    \u001b[49m\u001b[43mdata_type\u001b[49m\u001b[38;5;241;43m=\u001b[39;49m\u001b[43mdata_type\u001b[49m\u001b[43m,\u001b[49m\n\u001b[1;32m    553\u001b[0m \u001b[43m    \u001b[49m\u001b[43masync_job_plan\u001b[49m\u001b[38;5;241;43m=\u001b[39;49m\u001b[43mplan\u001b[49m\u001b[43m,\u001b[49m\n\u001b[1;32m    554\u001b[0m \u001b[43m    \u001b[49m\u001b[43mlog_on_exception\u001b[49m\u001b[38;5;241;43m=\u001b[39;49m\u001b[43mlog_on_exception\u001b[49m\u001b[43m,\u001b[49m\n\u001b[1;32m    555\u001b[0m \u001b[43m    \u001b[49m\u001b[43mcase_sensitive\u001b[49m\u001b[38;5;241;43m=\u001b[39;49m\u001b[43mcase_sensitive\u001b[49m\u001b[43m,\u001b[49m\n\u001b[1;32m    556\u001b[0m \u001b[43m    \u001b[49m\u001b[43mparams\u001b[49m\u001b[38;5;241;43m=\u001b[39;49m\u001b[43mquery\u001b[49m\u001b[38;5;241;43m.\u001b[39;49m\u001b[43mparams\u001b[49m\u001b[43m,\u001b[49m\n\u001b[1;32m    557\u001b[0m \u001b[43m    \u001b[49m\u001b[38;5;241;43m*\u001b[39;49m\u001b[38;5;241;43m*\u001b[39;49m\u001b[43mkwargs\u001b[49m\u001b[43m,\u001b[49m\n\u001b[1;32m    558\u001b[0m \u001b[43m\u001b[49m\u001b[43m)\u001b[49m\n\u001b[1;32m    559\u001b[0m placeholders[query\u001b[38;5;241m.\u001b[39mquery_id_place_holder] \u001b[38;5;241m=\u001b[39m (\n\u001b[1;32m    560\u001b[0m     result[\u001b[38;5;124m\"\u001b[39m\u001b[38;5;124msfqid\u001b[39m\u001b[38;5;124m\"\u001b[39m] \u001b[38;5;28;01mif\u001b[39;00m \u001b[38;5;129;01mnot\u001b[39;00m is_last \u001b[38;5;28;01melse\u001b[39;00m result\u001b[38;5;241m.\u001b[39mquery_id\n\u001b[1;32m    561\u001b[0m )\n\u001b[1;32m    562\u001b[0m result_meta \u001b[38;5;241m=\u001b[39m \u001b[38;5;28mself\u001b[39m\u001b[38;5;241m.\u001b[39m_cursor\u001b[38;5;241m.\u001b[39mdescription\n",
      "File \u001b[0;32m~/opt/anaconda3/envs/xavier_test/lib/python3.9/site-packages/snowflake/snowpark/_internal/server_connection.py:102\u001b[0m, in \u001b[0;36mServerConnection._Decorator.wrap_exception.<locals>.wrap\u001b[0;34m(*args, **kwargs)\u001b[0m\n\u001b[1;32m     98\u001b[0m     \u001b[38;5;28;01mraise\u001b[39;00m SnowparkClientExceptionMessages\u001b[38;5;241m.\u001b[39mSERVER_SESSION_EXPIRED(\n\u001b[1;32m     99\u001b[0m         ex\u001b[38;5;241m.\u001b[39mcause\n\u001b[1;32m    100\u001b[0m     )\n\u001b[1;32m    101\u001b[0m \u001b[38;5;28;01mexcept\u001b[39;00m \u001b[38;5;167;01mException\u001b[39;00m \u001b[38;5;28;01mas\u001b[39;00m ex:\n\u001b[0;32m--> 102\u001b[0m     \u001b[38;5;28;01mraise\u001b[39;00m ex\n",
      "File \u001b[0;32m~/opt/anaconda3/envs/xavier_test/lib/python3.9/site-packages/snowflake/snowpark/_internal/server_connection.py:96\u001b[0m, in \u001b[0;36mServerConnection._Decorator.wrap_exception.<locals>.wrap\u001b[0;34m(*args, **kwargs)\u001b[0m\n\u001b[1;32m     94\u001b[0m     \u001b[38;5;28;01mraise\u001b[39;00m SnowparkClientExceptionMessages\u001b[38;5;241m.\u001b[39mSERVER_SESSION_HAS_BEEN_CLOSED()\n\u001b[1;32m     95\u001b[0m \u001b[38;5;28;01mtry\u001b[39;00m:\n\u001b[0;32m---> 96\u001b[0m     \u001b[38;5;28;01mreturn\u001b[39;00m \u001b[43mfunc\u001b[49m\u001b[43m(\u001b[49m\u001b[38;5;241;43m*\u001b[39;49m\u001b[43margs\u001b[49m\u001b[43m,\u001b[49m\u001b[43m \u001b[49m\u001b[38;5;241;43m*\u001b[39;49m\u001b[38;5;241;43m*\u001b[39;49m\u001b[43mkwargs\u001b[49m\u001b[43m)\u001b[49m\n\u001b[1;32m     97\u001b[0m \u001b[38;5;28;01mexcept\u001b[39;00m ReauthenticationRequest \u001b[38;5;28;01mas\u001b[39;00m ex:\n\u001b[1;32m     98\u001b[0m     \u001b[38;5;28;01mraise\u001b[39;00m SnowparkClientExceptionMessages\u001b[38;5;241m.\u001b[39mSERVER_SESSION_EXPIRED(\n\u001b[1;32m     99\u001b[0m         ex\u001b[38;5;241m.\u001b[39mcause\n\u001b[1;32m    100\u001b[0m     )\n",
      "File \u001b[0;32m~/opt/anaconda3/envs/xavier_test/lib/python3.9/site-packages/snowflake/snowpark/_internal/server_connection.py:366\u001b[0m, in \u001b[0;36mServerConnection.run_query\u001b[0;34m(self, query, to_pandas, to_iter, is_ddl_on_temp_object, block, data_type, async_job_plan, log_on_exception, case_sensitive, params, num_statements, **kwargs)\u001b[0m\n\u001b[1;32m    364\u001b[0m         query_id_log \u001b[38;5;241m=\u001b[39m \u001b[38;5;124mf\u001b[39m\u001b[38;5;124m\"\u001b[39m\u001b[38;5;124m [queryID: \u001b[39m\u001b[38;5;132;01m{\u001b[39;00mex\u001b[38;5;241m.\u001b[39msfqid\u001b[38;5;132;01m}\u001b[39;00m\u001b[38;5;124m]\u001b[39m\u001b[38;5;124m\"\u001b[39m \u001b[38;5;28;01mif\u001b[39;00m \u001b[38;5;28mhasattr\u001b[39m(ex, \u001b[38;5;124m\"\u001b[39m\u001b[38;5;124msfqid\u001b[39m\u001b[38;5;124m\"\u001b[39m) \u001b[38;5;28;01melse\u001b[39;00m \u001b[38;5;124m\"\u001b[39m\u001b[38;5;124m\"\u001b[39m\n\u001b[1;32m    365\u001b[0m         logger\u001b[38;5;241m.\u001b[39merror(\u001b[38;5;124mf\u001b[39m\u001b[38;5;124m\"\u001b[39m\u001b[38;5;124mFailed to execute query\u001b[39m\u001b[38;5;132;01m{\u001b[39;00mquery_id_log\u001b[38;5;132;01m}\u001b[39;00m\u001b[38;5;124m \u001b[39m\u001b[38;5;132;01m{\u001b[39;00mquery\u001b[38;5;132;01m}\u001b[39;00m\u001b[38;5;130;01m\\n\u001b[39;00m\u001b[38;5;132;01m{\u001b[39;00mex\u001b[38;5;132;01m}\u001b[39;00m\u001b[38;5;124m\"\u001b[39m)\n\u001b[0;32m--> 366\u001b[0m     \u001b[38;5;28;01mraise\u001b[39;00m ex\n\u001b[1;32m    368\u001b[0m \u001b[38;5;66;03m# fetch_pandas_all/batches() only works for SELECT statements\u001b[39;00m\n\u001b[1;32m    369\u001b[0m \u001b[38;5;66;03m# We call fetchall() if fetch_pandas_all/batches() fails,\u001b[39;00m\n\u001b[1;32m    370\u001b[0m \u001b[38;5;66;03m# because when the query plan has multiple queries, it will\u001b[39;00m\n\u001b[1;32m    371\u001b[0m \u001b[38;5;66;03m# have non-select statements, and it shouldn't fail if the user\u001b[39;00m\n\u001b[1;32m    372\u001b[0m \u001b[38;5;66;03m# calls to_pandas() to execute the query.\u001b[39;00m\n\u001b[1;32m    373\u001b[0m \u001b[38;5;28;01mif\u001b[39;00m block:\n",
      "File \u001b[0;32m~/opt/anaconda3/envs/xavier_test/lib/python3.9/site-packages/snowflake/snowpark/_internal/server_connection.py:347\u001b[0m, in \u001b[0;36mServerConnection.run_query\u001b[0;34m(self, query, to_pandas, to_iter, is_ddl_on_temp_object, block, data_type, async_job_plan, log_on_exception, case_sensitive, params, num_statements, **kwargs)\u001b[0m\n\u001b[1;32m    345\u001b[0m     kwargs[\u001b[38;5;124m\"\u001b[39m\u001b[38;5;124m_statement_params\u001b[39m\u001b[38;5;124m\"\u001b[39m][\u001b[38;5;124m\"\u001b[39m\u001b[38;5;124mSNOWPARK_SKIP_TXN_COMMIT_IN_DDL\u001b[39m\u001b[38;5;124m\"\u001b[39m] \u001b[38;5;241m=\u001b[39m \u001b[38;5;28;01mTrue\u001b[39;00m\n\u001b[1;32m    346\u001b[0m \u001b[38;5;28;01mif\u001b[39;00m block:\n\u001b[0;32m--> 347\u001b[0m     results_cursor \u001b[38;5;241m=\u001b[39m \u001b[38;5;28;43mself\u001b[39;49m\u001b[38;5;241;43m.\u001b[39;49m\u001b[43m_cursor\u001b[49m\u001b[38;5;241;43m.\u001b[39;49m\u001b[43mexecute\u001b[49m\u001b[43m(\u001b[49m\u001b[43mquery\u001b[49m\u001b[43m,\u001b[49m\u001b[43m \u001b[49m\u001b[43mparams\u001b[49m\u001b[38;5;241;43m=\u001b[39;49m\u001b[43mparams\u001b[49m\u001b[43m,\u001b[49m\u001b[43m \u001b[49m\u001b[38;5;241;43m*\u001b[39;49m\u001b[38;5;241;43m*\u001b[39;49m\u001b[43mkwargs\u001b[49m\u001b[43m)\u001b[49m\n\u001b[1;32m    348\u001b[0m     \u001b[38;5;28mself\u001b[39m\u001b[38;5;241m.\u001b[39mnotify_query_listeners(\n\u001b[1;32m    349\u001b[0m         QueryRecord(results_cursor\u001b[38;5;241m.\u001b[39msfqid, results_cursor\u001b[38;5;241m.\u001b[39mquery)\n\u001b[1;32m    350\u001b[0m     )\n\u001b[1;32m    351\u001b[0m     logger\u001b[38;5;241m.\u001b[39mdebug(\u001b[38;5;124mf\u001b[39m\u001b[38;5;124m\"\u001b[39m\u001b[38;5;124mExecute query [queryID: \u001b[39m\u001b[38;5;132;01m{\u001b[39;00mresults_cursor\u001b[38;5;241m.\u001b[39msfqid\u001b[38;5;132;01m}\u001b[39;00m\u001b[38;5;124m] \u001b[39m\u001b[38;5;132;01m{\u001b[39;00mquery\u001b[38;5;132;01m}\u001b[39;00m\u001b[38;5;124m\"\u001b[39m)\n",
      "File \u001b[0;32m~/opt/anaconda3/envs/xavier_test/lib/python3.9/site-packages/snowflake/connector/cursor.py:908\u001b[0m, in \u001b[0;36mSnowflakeCursor.execute\u001b[0;34m(self, command, params, _bind_stage, timeout, _exec_async, _no_retry, _do_reset, _put_callback, _put_azure_callback, _put_callback_output_stream, _get_callback, _get_azure_callback, _get_callback_output_stream, _show_progress_bar, _statement_params, _is_internal, _describe_only, _no_results, _is_put_get, _raise_put_get_error, _force_put_overwrite, _skip_upload_on_content_match, file_stream, num_statements)\u001b[0m\n\u001b[1;32m    904\u001b[0m     is_integrity_error \u001b[38;5;241m=\u001b[39m (\n\u001b[1;32m    905\u001b[0m         code \u001b[38;5;241m==\u001b[39m \u001b[38;5;124m\"\u001b[39m\u001b[38;5;124m100072\u001b[39m\u001b[38;5;124m\"\u001b[39m\n\u001b[1;32m    906\u001b[0m     )  \u001b[38;5;66;03m# NULL result in a non-nullable column\u001b[39;00m\n\u001b[1;32m    907\u001b[0m     error_class \u001b[38;5;241m=\u001b[39m IntegrityError \u001b[38;5;28;01mif\u001b[39;00m is_integrity_error \u001b[38;5;28;01melse\u001b[39;00m ProgrammingError\n\u001b[0;32m--> 908\u001b[0m     \u001b[43mError\u001b[49m\u001b[38;5;241;43m.\u001b[39;49m\u001b[43merrorhandler_wrapper\u001b[49m\u001b[43m(\u001b[49m\u001b[38;5;28;43mself\u001b[39;49m\u001b[38;5;241;43m.\u001b[39;49m\u001b[43mconnection\u001b[49m\u001b[43m,\u001b[49m\u001b[43m \u001b[49m\u001b[38;5;28;43mself\u001b[39;49m\u001b[43m,\u001b[49m\u001b[43m \u001b[49m\u001b[43merror_class\u001b[49m\u001b[43m,\u001b[49m\u001b[43m \u001b[49m\u001b[43merrvalue\u001b[49m\u001b[43m)\u001b[49m\n\u001b[1;32m    909\u001b[0m \u001b[38;5;28;01mreturn\u001b[39;00m \u001b[38;5;28mself\u001b[39m\n",
      "File \u001b[0;32m~/opt/anaconda3/envs/xavier_test/lib/python3.9/site-packages/snowflake/connector/errors.py:290\u001b[0m, in \u001b[0;36mError.errorhandler_wrapper\u001b[0;34m(connection, cursor, error_class, error_value)\u001b[0m\n\u001b[1;32m    267\u001b[0m \u001b[38;5;129m@staticmethod\u001b[39m\n\u001b[1;32m    268\u001b[0m \u001b[38;5;28;01mdef\u001b[39;00m \u001b[38;5;21merrorhandler_wrapper\u001b[39m(\n\u001b[1;32m    269\u001b[0m     connection: SnowflakeConnection \u001b[38;5;241m|\u001b[39m \u001b[38;5;28;01mNone\u001b[39;00m,\n\u001b[0;32m   (...)\u001b[0m\n\u001b[1;32m    272\u001b[0m     error_value: \u001b[38;5;28mdict\u001b[39m[\u001b[38;5;28mstr\u001b[39m, Any],\n\u001b[1;32m    273\u001b[0m ) \u001b[38;5;241m-\u001b[39m\u001b[38;5;241m>\u001b[39m \u001b[38;5;28;01mNone\u001b[39;00m:\n\u001b[1;32m    274\u001b[0m \u001b[38;5;250m    \u001b[39m\u001b[38;5;124;03m\"\"\"Error handler wrapper that calls the errorhandler method.\u001b[39;00m\n\u001b[1;32m    275\u001b[0m \n\u001b[1;32m    276\u001b[0m \u001b[38;5;124;03m    Args:\u001b[39;00m\n\u001b[0;32m   (...)\u001b[0m\n\u001b[1;32m    287\u001b[0m \u001b[38;5;124;03m        exception to the first handler in that order.\u001b[39;00m\n\u001b[1;32m    288\u001b[0m \u001b[38;5;124;03m    \"\"\"\u001b[39;00m\n\u001b[0;32m--> 290\u001b[0m     handed_over \u001b[38;5;241m=\u001b[39m \u001b[43mError\u001b[49m\u001b[38;5;241;43m.\u001b[39;49m\u001b[43mhand_to_other_handler\u001b[49m\u001b[43m(\u001b[49m\n\u001b[1;32m    291\u001b[0m \u001b[43m        \u001b[49m\u001b[43mconnection\u001b[49m\u001b[43m,\u001b[49m\n\u001b[1;32m    292\u001b[0m \u001b[43m        \u001b[49m\u001b[43mcursor\u001b[49m\u001b[43m,\u001b[49m\n\u001b[1;32m    293\u001b[0m \u001b[43m        \u001b[49m\u001b[43merror_class\u001b[49m\u001b[43m,\u001b[49m\n\u001b[1;32m    294\u001b[0m \u001b[43m        \u001b[49m\u001b[43merror_value\u001b[49m\u001b[43m,\u001b[49m\n\u001b[1;32m    295\u001b[0m \u001b[43m    \u001b[49m\u001b[43m)\u001b[49m\n\u001b[1;32m    296\u001b[0m     \u001b[38;5;28;01mif\u001b[39;00m \u001b[38;5;129;01mnot\u001b[39;00m handed_over:\n\u001b[1;32m    297\u001b[0m         \u001b[38;5;28;01mraise\u001b[39;00m Error\u001b[38;5;241m.\u001b[39merrorhandler_make_exception(\n\u001b[1;32m    298\u001b[0m             error_class,\n\u001b[1;32m    299\u001b[0m             error_value,\n\u001b[1;32m    300\u001b[0m         )\n",
      "File \u001b[0;32m~/opt/anaconda3/envs/xavier_test/lib/python3.9/site-packages/snowflake/connector/errors.py:345\u001b[0m, in \u001b[0;36mError.hand_to_other_handler\u001b[0;34m(connection, cursor, error_class, error_value)\u001b[0m\n\u001b[1;32m    343\u001b[0m \u001b[38;5;28;01mif\u001b[39;00m cursor \u001b[38;5;129;01mis\u001b[39;00m \u001b[38;5;129;01mnot\u001b[39;00m \u001b[38;5;28;01mNone\u001b[39;00m:\n\u001b[1;32m    344\u001b[0m     cursor\u001b[38;5;241m.\u001b[39mmessages\u001b[38;5;241m.\u001b[39mappend((error_class, error_value))\n\u001b[0;32m--> 345\u001b[0m     \u001b[43mcursor\u001b[49m\u001b[38;5;241;43m.\u001b[39;49m\u001b[43merrorhandler\u001b[49m\u001b[43m(\u001b[49m\u001b[43mconnection\u001b[49m\u001b[43m,\u001b[49m\u001b[43m \u001b[49m\u001b[43mcursor\u001b[49m\u001b[43m,\u001b[49m\u001b[43m \u001b[49m\u001b[43merror_class\u001b[49m\u001b[43m,\u001b[49m\u001b[43m \u001b[49m\u001b[43merror_value\u001b[49m\u001b[43m)\u001b[49m\n\u001b[1;32m    346\u001b[0m     \u001b[38;5;28;01mreturn\u001b[39;00m \u001b[38;5;28;01mTrue\u001b[39;00m\n\u001b[1;32m    347\u001b[0m \u001b[38;5;28;01melif\u001b[39;00m connection \u001b[38;5;129;01mis\u001b[39;00m \u001b[38;5;129;01mnot\u001b[39;00m \u001b[38;5;28;01mNone\u001b[39;00m:\n",
      "File \u001b[0;32m~/opt/anaconda3/envs/xavier_test/lib/python3.9/site-packages/snowflake/connector/errors.py:221\u001b[0m, in \u001b[0;36mError.default_errorhandler\u001b[0;34m(connection, cursor, error_class, error_value)\u001b[0m\n\u001b[1;32m    219\u001b[0m errno \u001b[38;5;241m=\u001b[39m error_value\u001b[38;5;241m.\u001b[39mget(\u001b[38;5;124m\"\u001b[39m\u001b[38;5;124merrno\u001b[39m\u001b[38;5;124m\"\u001b[39m)\n\u001b[1;32m    220\u001b[0m done_format_msg \u001b[38;5;241m=\u001b[39m error_value\u001b[38;5;241m.\u001b[39mget(\u001b[38;5;124m\"\u001b[39m\u001b[38;5;124mdone_format_msg\u001b[39m\u001b[38;5;124m\"\u001b[39m)\n\u001b[0;32m--> 221\u001b[0m \u001b[38;5;28;01mraise\u001b[39;00m error_class(\n\u001b[1;32m    222\u001b[0m     msg\u001b[38;5;241m=\u001b[39merror_value\u001b[38;5;241m.\u001b[39mget(\u001b[38;5;124m\"\u001b[39m\u001b[38;5;124mmsg\u001b[39m\u001b[38;5;124m\"\u001b[39m),\n\u001b[1;32m    223\u001b[0m     errno\u001b[38;5;241m=\u001b[39m\u001b[38;5;28;01mNone\u001b[39;00m \u001b[38;5;28;01mif\u001b[39;00m errno \u001b[38;5;129;01mis\u001b[39;00m \u001b[38;5;28;01mNone\u001b[39;00m \u001b[38;5;28;01melse\u001b[39;00m \u001b[38;5;28mint\u001b[39m(errno),\n\u001b[1;32m    224\u001b[0m     sqlstate\u001b[38;5;241m=\u001b[39merror_value\u001b[38;5;241m.\u001b[39mget(\u001b[38;5;124m\"\u001b[39m\u001b[38;5;124msqlstate\u001b[39m\u001b[38;5;124m\"\u001b[39m),\n\u001b[1;32m    225\u001b[0m     sfqid\u001b[38;5;241m=\u001b[39merror_value\u001b[38;5;241m.\u001b[39mget(\u001b[38;5;124m\"\u001b[39m\u001b[38;5;124msfqid\u001b[39m\u001b[38;5;124m\"\u001b[39m),\n\u001b[1;32m    226\u001b[0m     query\u001b[38;5;241m=\u001b[39merror_value\u001b[38;5;241m.\u001b[39mget(\u001b[38;5;124m\"\u001b[39m\u001b[38;5;124mquery\u001b[39m\u001b[38;5;124m\"\u001b[39m),\n\u001b[1;32m    227\u001b[0m     done_format_msg\u001b[38;5;241m=\u001b[39m(\n\u001b[1;32m    228\u001b[0m         \u001b[38;5;28;01mNone\u001b[39;00m \u001b[38;5;28;01mif\u001b[39;00m done_format_msg \u001b[38;5;129;01mis\u001b[39;00m \u001b[38;5;28;01mNone\u001b[39;00m \u001b[38;5;28;01melse\u001b[39;00m \u001b[38;5;28mbool\u001b[39m(done_format_msg)\n\u001b[1;32m    229\u001b[0m     ),\n\u001b[1;32m    230\u001b[0m     connection\u001b[38;5;241m=\u001b[39mconnection,\n\u001b[1;32m    231\u001b[0m     cursor\u001b[38;5;241m=\u001b[39mcursor,\n\u001b[1;32m    232\u001b[0m )\n",
      "\u001b[0;31mSnowparkSQLException\u001b[0m: (1304): 01aeef15-0000-90a4-0000-f149003df012: 100357 (P0000): Python Interpreter Error:\nTraceback (most recent call last):\n  File \"/usr/lib/python_udf/7b1e9c1de04786808c181f8047dc965cc86b29c4c67f6d3ffa840e844504720a/lib/python3.9/site-packages/nltk/corpus/util.py\", line 84, in __load\n    root = nltk.data.find(f\"{self.subdir}/{zip_name}\")\n  File \"/usr/lib/python_udf/7b1e9c1de04786808c181f8047dc965cc86b29c4c67f6d3ffa840e844504720a/lib/python3.9/site-packages/nltk/data.py\", line 583, in find\n    raise LookupError(resource_not_found)\nLookupError: \n**********************************************************************\n  Resource \u001b[93mstopwords\u001b[0m not found.\n  Please use the NLTK Downloader to obtain the resource:\n\n  \u001b[31m>>> import nltk\n  >>> nltk.download('stopwords')\n  \u001b[0m\n  For more information see: https://www.nltk.org/data.html\n\n  Attempted to load \u001b[93mcorpora/stopwords.zip/stopwords/\u001b[0m\n\n  Searched in:\n    - '/home/udf/nltk_data'\n    - '/usr/lib/python_udf/7b1e9c1de04786808c181f8047dc965cc86b29c4c67f6d3ffa840e844504720a/nltk_data'\n    - '/usr/lib/python_udf/7b1e9c1de04786808c181f8047dc965cc86b29c4c67f6d3ffa840e844504720a/share/nltk_data'\n    - '/usr/lib/python_udf/7b1e9c1de04786808c181f8047dc965cc86b29c4c67f6d3ffa840e844504720a/lib/nltk_data'\n    - '/usr/share/nltk_data'\n    - '/usr/local/share/nltk_data'\n    - '/usr/lib/nltk_data'\n    - '/usr/local/lib/nltk_data'\n**********************************************************************\n\n\nDuring handling of the above exception, another exception occurred:\n\nTraceback (most recent call last):\n  File \"_udf_code.py\", line 19, in compute\n  File \"/var/folders/97/8vc6xcbx4zd06p75xg9frdrw0000gn/T/ipykernel_23661/2598087368.py\", line 9, in sproc_test_stopwords_v1\n  File \"/usr/lib/python_udf/7b1e9c1de04786808c181f8047dc965cc86b29c4c67f6d3ffa840e844504720a/lib/python3.9/site-packages/nltk/corpus/util.py\", line 121, in __getattr__\n    self.__load()\n  File \"/usr/lib/python_udf/7b1e9c1de04786808c181f8047dc965cc86b29c4c67f6d3ffa840e844504720a/lib/python3.9/site-packages/nltk/corpus/util.py\", line 86, in __load\n    raise e\n  File \"/usr/lib/python_udf/7b1e9c1de04786808c181f8047dc965cc86b29c4c67f6d3ffa840e844504720a/lib/python3.9/site-packages/nltk/corpus/util.py\", line 81, in __load\n    root = nltk.data.find(f\"{self.subdir}/{self.__name}\")\n  File \"/usr/lib/python_udf/7b1e9c1de04786808c181f8047dc965cc86b29c4c67f6d3ffa840e844504720a/lib/python3.9/site-packages/nltk/data.py\", line 583, in find\n    raise LookupError(resource_not_found)\nLookupError: \n**********************************************************************\n  Resource \u001b[93mstopwords\u001b[0m not found.\n  Please use the NLTK Downloader to obtain the resource:\n\n  \u001b[31m>>> import nltk\n  >>> nltk.download('stopwords')\n  \u001b[0m\n  For more information see: https://www.nltk.org/data.html\n\n  Attempted to load \u001b[93mcorpora/stopwords\u001b[0m\n\n  Searched in:\n    - '/home/udf/nltk_data'\n    - '/usr/lib/python_udf/7b1e9c1de04786808c181f8047dc965cc86b29c4c67f6d3ffa840e844504720a/nltk_data'\n    - '/usr/lib/python_udf/7b1e9c1de04786808c181f8047dc965cc86b29c4c67f6d3ffa840e844504720a/share/nltk_data'\n    - '/usr/lib/python_udf/7b1e9c1de04786808c181f8047dc965cc86b29c4c67f6d3ffa840e844504720a/lib/nltk_data'\n    - '/usr/share/nltk_data'\n    - '/usr/local/share/nltk_data'\n    - '/usr/lib/nltk_data'\n    - '/usr/local/lib/nltk_data'\n**********************************************************************\n\n in function GET_STOPWORDS_V1 with handler compute"
     ]
    }
   ],
   "source": [
    "sproc_test_stopwords_v1()"
   ]
  },
  {
   "cell_type": "markdown",
   "id": "6d541f09-0328-4826-86c9-c925e6243b66",
   "metadata": {
    "tags": []
   },
   "source": [
    "#### 2.SNOW.1 Additional"
   ]
  },
  {
   "cell_type": "markdown",
   "id": "6064717a-9b02-4abf-80f5-77a342e5caa6",
   "metadata": {},
   "source": [
    "Uh oh, what happened?  Let's make sure Snowflake supports NLTK:\n",
    "\n",
    "https://repo.anaconda.com/pkgs/snowflake/\n",
    "\n",
    "It's there, so what's the problem? Well, Snowflake is serious about security and allows very little external access, especially access that is performed by an app.  But we need to get our stopwords in....\n",
    "\n",
    "We need to load this data in ourselves"
   ]
  },
  {
   "cell_type": "code",
   "execution_count": 15,
   "id": "7f603278-a121-4c81-a3e1-b23b52a78662",
   "metadata": {
    "tags": []
   },
   "outputs": [
    {
     "data": {
      "text/plain": [
       "[Row(source='stopwords.zip', target='stopwords.zip.gz', source_size=34276, target_size=0, source_compression='NONE', target_compression='GZIP', status='SKIPPED', message='')]"
      ]
     },
     "execution_count": 15,
     "metadata": {},
     "output_type": "execute_result"
    }
   ],
   "source": [
    "session.sql('''PUT file:///Users/mitaylor/nltk_data/corpora/stopwords.zip @CD_STAGE/nltk_data/corpora;''').collect()"
   ]
  },
  {
   "cell_type": "code",
   "execution_count": 16,
   "id": "5c7e3e05-b42b-4e16-ba71-e328339d5282",
   "metadata": {
    "tags": []
   },
   "outputs": [
    {
     "data": {
      "text/html": [
       "<div>\n",
       "<style scoped>\n",
       "    .dataframe tbody tr th:only-of-type {\n",
       "        vertical-align: middle;\n",
       "    }\n",
       "\n",
       "    .dataframe tbody tr th {\n",
       "        vertical-align: top;\n",
       "    }\n",
       "\n",
       "    .dataframe thead th {\n",
       "        text-align: right;\n",
       "    }\n",
       "</style>\n",
       "<table border=\"1\" class=\"dataframe\">\n",
       "  <thead>\n",
       "    <tr style=\"text-align: right;\">\n",
       "      <th></th>\n",
       "      <th>name</th>\n",
       "      <th>size</th>\n",
       "      <th>md5</th>\n",
       "      <th>last_modified</th>\n",
       "    </tr>\n",
       "  </thead>\n",
       "  <tbody>\n",
       "    <tr>\n",
       "      <th>0</th>\n",
       "      <td>cd_stage/PIPE_MODEL.sav</td>\n",
       "      <td>17812608</td>\n",
       "      <td>710421132e58a0516a861e888ac54a09</td>\n",
       "      <td>Tue, 12 Sep 2023 07:12:09 GMT</td>\n",
       "    </tr>\n",
       "    <tr>\n",
       "      <th>1</th>\n",
       "      <td>cd_stage/PIPE_MODEL_SPROC.sav</td>\n",
       "      <td>17812608</td>\n",
       "      <td>d35c8f63e68bcf6b07a05f3cadf52319</td>\n",
       "      <td>Tue, 12 Sep 2023 07:11:55 GMT</td>\n",
       "    </tr>\n",
       "    <tr>\n",
       "      <th>2</th>\n",
       "      <td>cd_stage/ec1167d39b388d2f9a47e57dd2e9b07810696...</td>\n",
       "      <td>14304</td>\n",
       "      <td>46340bde5d50f60ae16e3197393cb294</td>\n",
       "      <td>Mon, 11 Sep 2023 09:01:21 GMT</td>\n",
       "    </tr>\n",
       "    <tr>\n",
       "      <th>3</th>\n",
       "      <td>cd_stage/lr_model.sav</td>\n",
       "      <td>6842112</td>\n",
       "      <td>d28f6a080320ecdcb2b5d238fa4f72d7</td>\n",
       "      <td>Tue, 12 Sep 2023 06:48:33 GMT</td>\n",
       "    </tr>\n",
       "    <tr>\n",
       "      <th>4</th>\n",
       "      <td>cd_stage/nltk_data/corpora/stopwords.zip.gz</td>\n",
       "      <td>31088</td>\n",
       "      <td>06cafc67e71e2c2fed97d2519f9e7b2f</td>\n",
       "      <td>Mon, 11 Sep 2023 08:51:38 GMT</td>\n",
       "    </tr>\n",
       "    <tr>\n",
       "      <th>5</th>\n",
       "      <td>cd_stage/vectoriser</td>\n",
       "      <td>10970624</td>\n",
       "      <td>f9ff3a975cc78ac4986fd0a3e4dd7cc0</td>\n",
       "      <td>Mon, 11 Sep 2023 09:14:24 GMT</td>\n",
       "    </tr>\n",
       "    <tr>\n",
       "      <th>6</th>\n",
       "      <td>cd_stage/vectoriser.sav</td>\n",
       "      <td>10970624</td>\n",
       "      <td>30261644ded1395737c211f245057311</td>\n",
       "      <td>Tue, 12 Sep 2023 06:47:53 GMT</td>\n",
       "    </tr>\n",
       "  </tbody>\n",
       "</table>\n",
       "</div>"
      ],
      "text/plain": [
       "                                                name      size  \\\n",
       "0                            cd_stage/PIPE_MODEL.sav  17812608   \n",
       "1                      cd_stage/PIPE_MODEL_SPROC.sav  17812608   \n",
       "2  cd_stage/ec1167d39b388d2f9a47e57dd2e9b07810696...     14304   \n",
       "3                              cd_stage/lr_model.sav   6842112   \n",
       "4        cd_stage/nltk_data/corpora/stopwords.zip.gz     31088   \n",
       "5                                cd_stage/vectoriser  10970624   \n",
       "6                            cd_stage/vectoriser.sav  10970624   \n",
       "\n",
       "                                md5                  last_modified  \n",
       "0  710421132e58a0516a861e888ac54a09  Tue, 12 Sep 2023 07:12:09 GMT  \n",
       "1  d35c8f63e68bcf6b07a05f3cadf52319  Tue, 12 Sep 2023 07:11:55 GMT  \n",
       "2  46340bde5d50f60ae16e3197393cb294  Mon, 11 Sep 2023 09:01:21 GMT  \n",
       "3  d28f6a080320ecdcb2b5d238fa4f72d7  Tue, 12 Sep 2023 06:48:33 GMT  \n",
       "4  06cafc67e71e2c2fed97d2519f9e7b2f  Mon, 11 Sep 2023 08:51:38 GMT  \n",
       "5  f9ff3a975cc78ac4986fd0a3e4dd7cc0  Mon, 11 Sep 2023 09:14:24 GMT  \n",
       "6  30261644ded1395737c211f245057311  Tue, 12 Sep 2023 06:47:53 GMT  "
      ]
     },
     "execution_count": 16,
     "metadata": {},
     "output_type": "execute_result"
    }
   ],
   "source": [
    "pd.DataFrame(session.sql('LS @CD_STAGE').collect())"
   ]
  },
  {
   "cell_type": "markdown",
   "id": "cc414613-3517-4b7b-bbe1-837be6c72222",
   "metadata": {},
   "source": [
    "and use shutil to help us create the right structures in Snowflake"
   ]
  },
  {
   "cell_type": "code",
   "execution_count": 17,
   "id": "3cc8bb99-dafd-4969-8986-fe1b98301822",
   "metadata": {
    "tags": []
   },
   "outputs": [
    {
     "data": {
      "text/plain": [
       "<module 'shutil' from '/Users/mitaylor/opt/anaconda3/envs/xavier_test/lib/python3.9/shutil.py'>"
      ]
     },
     "execution_count": 17,
     "metadata": {},
     "output_type": "execute_result"
    }
   ],
   "source": [
    "import shutil\n",
    "shutil"
   ]
  },
  {
   "cell_type": "code",
   "execution_count": 18,
   "id": "447b6e59-0d9b-4411-8ff7-f28b7c1191eb",
   "metadata": {
    "tags": []
   },
   "outputs": [
    {
     "name": "stderr",
     "output_type": "stream",
     "text": [
      "The version of package 'regex' in the local environment is 2023.8.8, which does not fit the criteria for the requirement 'regex'. Your UDF might not work when the package version is different between the server and your local environment.\n"
     ]
    }
   ],
   "source": [
    "# Register sproc\n",
    "@sproc(session=session, name='get_stopwords_v1', stage_location='@CD_STAGE',  \n",
    "       packages=['snowflake-snowpark-python', 'regex', 'nltk'], \n",
    "       is_permanent=True, \n",
    "       replace=True,\n",
    "       imports=['@CD_STAGE/nltk_data/corpora/stopwords.zip', '/Users/mitaylor/opt/anaconda3/envs/xavier_test/lib/python3.9/shutil.py'])\n",
    "def sproc_test_stopwords_v1(session: Session) -> list:\n",
    "    import nltk\n",
    "    import os\n",
    "    import shutil\n",
    "    import sys\n",
    "\n",
    "    IMPORT_DIRECTORY_NAME = \"snowflake_import_directory\"\n",
    "    import_dir = sys._xoptions[IMPORT_DIRECTORY_NAME]\n",
    "\n",
    "    # set up nltk data asset directory\n",
    "    nltk.data.path.append(import_dir)\n",
    "    data_path = '/tmp/nltk_data/'\n",
    "    nltk.data.path.append(data_path)\n",
    "    os.environ[\"NLTK_DATA\"] = data_path\n",
    "\n",
    "    # copy data for wordnet\n",
    "    os.makedirs(os.path.join(data_path, 'corpora'), exist_ok=True)\n",
    "    shutil.copy(os.path.join(import_dir, 'stopwords.zip'), os.path.join(data_path, 'corpora/stopwords.zip'))\n",
    "\n",
    "    # import the lexicon file\n",
    "    lex_file = os.path.join(import_dir, 'nrc_en.json')\n",
    "\n",
    "    return nltk.corpus.stopwords.words(\"english\")"
   ]
  },
  {
   "cell_type": "code",
   "execution_count": 19,
   "id": "90c9e95f-4080-4c3c-8b91-c0b5aac949ad",
   "metadata": {
    "tags": []
   },
   "outputs": [
    {
     "data": {
      "text/plain": [
       "'[\\n  \"i\",\\n  \"me\",\\n  \"my\",\\n  \"myself\",\\n  \"we\",\\n  \"our\",\\n  \"ours\",\\n  \"ourselves\",\\n  \"you\",\\n  \"you\\'re\",\\n  \"you\\'ve\",\\n  \"you\\'ll\",\\n  \"you\\'d\",\\n  \"your\",\\n  \"yours\",\\n  \"yourself\",\\n  \"yourselves\",\\n  \"he\",\\n  \"him\",\\n  \"his\",\\n  \"himself\",\\n  \"she\",\\n  \"she\\'s\",\\n  \"her\",\\n  \"hers\",\\n  \"herself\",\\n  \"it\",\\n  \"it\\'s\",\\n  \"its\",\\n  \"itself\",\\n  \"they\",\\n  \"them\",\\n  \"their\",\\n  \"theirs\",\\n  \"themselves\",\\n  \"what\",\\n  \"which\",\\n  \"who\",\\n  \"whom\",\\n  \"this\",\\n  \"that\",\\n  \"that\\'ll\",\\n  \"these\",\\n  \"those\",\\n  \"am\",\\n  \"is\",\\n  \"are\",\\n  \"was\",\\n  \"were\",\\n  \"be\",\\n  \"been\",\\n  \"being\",\\n  \"have\",\\n  \"has\",\\n  \"had\",\\n  \"having\",\\n  \"do\",\\n  \"does\",\\n  \"did\",\\n  \"doing\",\\n  \"a\",\\n  \"an\",\\n  \"the\",\\n  \"and\",\\n  \"but\",\\n  \"if\",\\n  \"or\",\\n  \"because\",\\n  \"as\",\\n  \"until\",\\n  \"while\",\\n  \"of\",\\n  \"at\",\\n  \"by\",\\n  \"for\",\\n  \"with\",\\n  \"about\",\\n  \"against\",\\n  \"between\",\\n  \"into\",\\n  \"through\",\\n  \"during\",\\n  \"before\",\\n  \"after\",\\n  \"above\",\\n  \"below\",\\n  \"to\",\\n  \"from\",\\n  \"up\",\\n  \"down\",\\n  \"in\",\\n  \"out\",\\n  \"on\",\\n  \"off\",\\n  \"over\",\\n  \"under\",\\n  \"again\",\\n  \"further\",\\n  \"then\",\\n  \"once\",\\n  \"here\",\\n  \"there\",\\n  \"when\",\\n  \"where\",\\n  \"why\",\\n  \"how\",\\n  \"all\",\\n  \"any\",\\n  \"both\",\\n  \"each\",\\n  \"few\",\\n  \"more\",\\n  \"most\",\\n  \"other\",\\n  \"some\",\\n  \"such\",\\n  \"no\",\\n  \"nor\",\\n  \"not\",\\n  \"only\",\\n  \"own\",\\n  \"same\",\\n  \"so\",\\n  \"than\",\\n  \"too\",\\n  \"very\",\\n  \"s\",\\n  \"t\",\\n  \"can\",\\n  \"will\",\\n  \"just\",\\n  \"don\",\\n  \"don\\'t\",\\n  \"should\",\\n  \"should\\'ve\",\\n  \"now\",\\n  \"d\",\\n  \"ll\",\\n  \"m\",\\n  \"o\",\\n  \"re\",\\n  \"ve\",\\n  \"y\",\\n  \"ain\",\\n  \"aren\",\\n  \"aren\\'t\",\\n  \"couldn\",\\n  \"couldn\\'t\",\\n  \"didn\",\\n  \"didn\\'t\",\\n  \"doesn\",\\n  \"doesn\\'t\",\\n  \"hadn\",\\n  \"hadn\\'t\",\\n  \"hasn\",\\n  \"hasn\\'t\",\\n  \"haven\",\\n  \"haven\\'t\",\\n  \"isn\",\\n  \"isn\\'t\",\\n  \"ma\",\\n  \"mightn\",\\n  \"mightn\\'t\",\\n  \"mustn\",\\n  \"mustn\\'t\",\\n  \"needn\",\\n  \"needn\\'t\",\\n  \"shan\",\\n  \"shan\\'t\",\\n  \"shouldn\",\\n  \"shouldn\\'t\",\\n  \"wasn\",\\n  \"wasn\\'t\",\\n  \"weren\",\\n  \"weren\\'t\",\\n  \"won\",\\n  \"won\\'t\",\\n  \"wouldn\",\\n  \"wouldn\\'t\"\\n]'"
      ]
     },
     "execution_count": 19,
     "metadata": {},
     "output_type": "execute_result"
    }
   ],
   "source": [
    "sproc_test_stopwords_v1()"
   ]
  },
  {
   "cell_type": "markdown",
   "id": "92f168da-d479-496c-aabd-47f5d1793261",
   "metadata": {},
   "source": [
    "Alternatively, we could always just load this list in to a table, but this tutorial was designed to enable full use of NLTK."
   ]
  },
  {
   "cell_type": "markdown",
   "id": "0086926a-3291-4834-93ce-69560492044a",
   "metadata": {
    "tags": []
   },
   "source": [
    "### 2.SNOW.2 TFIDF Processing Test"
   ]
  },
  {
   "cell_type": "code",
   "execution_count": null,
   "id": "edf06490-5afc-49eb-8b8f-d1c114e2b1c8",
   "metadata": {},
   "outputs": [],
   "source": [
    "@sproc(session=session, name='TFIDF_FIT', stage_location='@CD_STAGE',  \n",
    "       packages=['snowflake-snowpark-python', 'scikit-learn', 'regex', 'nltk'], \n",
    "       is_permanent=True, \n",
    "       replace=True,\n",
    "      )\n",
    "def tfidf_train_proc(session: Session, target_table: str, model_name: str) -> str:\n",
    "    from sklearn.feature_extraction.text import TfidfVectorizer\n",
    "    import nltk\n",
    "    import os\n",
    "    import shutil\n",
    "    import sys\n",
    "    from joblib import dump\n",
    "    \n",
    "    def simplify(text):\n",
    "        try:\n",
    "            text = unicode(text, \"utf-8\")\n",
    "        except NameError:\n",
    "            pass\n",
    "        text = unicodedata.normalize(\"NFD\", text).encode(\"ascii\", \"ignore\").decode(\"utf-8\")\n",
    "        return str(text)    \n",
    "\n",
    "    \n",
    "    \n",
    "    ############################################################################################################################################\n",
    "    \n",
    "    \n",
    "    \n",
    "    train_df = # need to get your data into a pandas dataframe, hint to_pandas()\n",
    "    # then train your vectoriser\n",
    "    \n",
    "    \n",
    "    ############################################################################################################################################\n",
    "\n",
    "    dump(vectorizer_model, '/tmp/'+model_name)\n",
    "    session.file.put('/tmp/'+model_name, '@CD_STAGE', auto_compress=False, overwrite=True)\n",
    "    \n",
    "    return \"vectoriser trained\"                "
   ]
  },
  {
   "cell_type": "code",
   "execution_count": null,
   "id": "4e99b954-ce58-4e9e-8cb1-09b3e2be6393",
   "metadata": {},
   "outputs": [],
   "source": [
    "tfidf_train_proc(\"TRAIN_DF\", \"vectoriser.sav\")"
   ]
  },
  {
   "cell_type": "markdown",
   "id": "ade732e6-ea61-42c6-a3d3-69f38483cefa",
   "metadata": {
    "tags": []
   },
   "source": [
    "### 2.SNOW.2 TFIDF Processing Solution"
   ]
  },
  {
   "cell_type": "code",
   "execution_count": 20,
   "id": "917ba191-091c-4068-9a89-e682718c166d",
   "metadata": {},
   "outputs": [
    {
     "name": "stderr",
     "output_type": "stream",
     "text": [
      "The version of package 'regex' in the local environment is 2023.8.8, which does not fit the criteria for the requirement 'regex'. Your UDF might not work when the package version is different between the server and your local environment.\n"
     ]
    }
   ],
   "source": [
    "@sproc(session=session, name='TFIDF_FIT', stage_location='@CD_STAGE',  \n",
    "       packages=['snowflake-snowpark-python', 'scikit-learn', 'regex', 'nltk'], \n",
    "       is_permanent=True, \n",
    "       replace=True,\n",
    "      )\n",
    "def tfidf_train_proc(session: Session, target_table: str, model_name: str) -> str:\n",
    "    from sklearn.feature_extraction.text import TfidfVectorizer\n",
    "    import nltk\n",
    "    import os\n",
    "    import shutil\n",
    "    import sys\n",
    "    from joblib import dump    \n",
    "    \n",
    "    train_df = session.table(\"TRAIN_DF\").to_pandas()\n",
    "                \n",
    "    vectorizer = TfidfVectorizer(\n",
    "        min_df=1,\n",
    "        max_features=None,\n",
    "        strip_accents=\"unicode\",\n",
    "        analyzer=\"word\",\n",
    "        token_pattern=r\"[a-zA-Z0-9]{1,}\",\n",
    "        ngram_range=(1, 3),\n",
    "        use_idf=1,\n",
    "        smooth_idf=1,\n",
    "        sublinear_tf=1,\n",
    "    )\n",
    "    vectorizer_model = vectorizer.fit(train_df[\"TEXT\"])\n",
    "\n",
    "    dump(vectorizer_model, '/tmp/'+model_name)\n",
    "    session.file.put('/tmp/'+model_name, '@CD_STAGE', auto_compress=False, overwrite=True)\n",
    "    \n",
    "    return \"vectoriser trained\"\n",
    "                \n",
    "    \n",
    "                "
   ]
  },
  {
   "cell_type": "code",
   "execution_count": 21,
   "id": "22d75d0c-aad5-4aa0-8f29-c8ba7e35a814",
   "metadata": {
    "tags": []
   },
   "outputs": [
    {
     "data": {
      "text/plain": [
       "'vectoriser trained'"
      ]
     },
     "execution_count": 21,
     "metadata": {},
     "output_type": "execute_result"
    }
   ],
   "source": [
    "tfidf_train_proc(\"TRAIN_DF\", \"vectoriser.sav\")"
   ]
  },
  {
   "cell_type": "markdown",
   "id": "7fd3e7d1-7fb1-48c2-b315-225c6125d811",
   "metadata": {
    "jp-MarkdownHeadingCollapsed": true,
    "tags": []
   },
   "source": [
    "### 2.SNOW.3 Machine Learning Test"
   ]
  },
  {
   "cell_type": "code",
   "execution_count": 32,
   "id": "267ce0da-f014-45ae-9649-a8b570255311",
   "metadata": {},
   "outputs": [],
   "source": [
    "from cachetools import cached\n",
    "\n",
    "@cached(cache={})\n",
    "def load_model(model_path: str) -> object:\n",
    "    from joblib import load\n",
    "    model = load(model_path)\n",
    "    return model\n",
    "   \n",
    "@sproc(session=session, name='TFIDF_FIT', stage_location='@CD_STAGE',  \n",
    "       packages=['snowflake-snowpark-python', 'scikit-learn', 'joblib','cachetools'], \n",
    "       is_permanent=True, \n",
    "       replace=True,\n",
    "       imports=[] # <- what imports do you need to make this work, hint in the vectoriser line in the main sproc\n",
    "      )\n",
    "def ml_train_sproc(session: Session) -> str: # what else other than Session (which you need for everything do you need to pass as a call (hint vectoriser, table name and one other)\n",
    "    from sklearn.linear_model import LogisticRegression\n",
    "    from joblib import dump\n",
    "    import sys\n",
    "    import numpy as np\n",
    "    \n",
    "    vectoriser = load_model(sys._xoptions[\"snowflake_import_directory\"]+vectoriser_name)\n",
    "    train_df = session.table(train_table).to_pandas()\n",
    "    X = vectoriser.transform(train_df['TEXT'])\n",
    "    y = np.array(train_df['Y'])\n",
    "    \n",
    "    ############################################################################################################################################\n",
    "    \n",
    "    # Train a model (lrmodel) here, should be just like you do in regular python\n",
    "    \n",
    "    ############################################################################################################################################\n",
    "    \n",
    "    dump(lrmodel, '/tmp/'+ml_model_name)\n",
    "    session.file.put('/tmp/'+ml_model_name, '@CD_STAGE', auto_compress=False, overwrite=True)\n",
    "    return('ML Model trained and saved')"
   ]
  },
  {
   "cell_type": "code",
   "execution_count": 33,
   "id": "dfdf436d-821c-40ac-9df9-7c3da94a2925",
   "metadata": {},
   "outputs": [
    {
     "data": {
      "text/plain": [
       "'ML Model trained and saved'"
      ]
     },
     "execution_count": 33,
     "metadata": {},
     "output_type": "execute_result"
    }
   ],
   "source": [
    "ml_train_sproc(some arguments)"
   ]
  },
  {
   "cell_type": "markdown",
   "id": "0f8c59c1-81a9-4cb5-8bd0-244ece4f3739",
   "metadata": {
    "tags": []
   },
   "source": [
    "### 2.SNOW.3 Machine Learning Solution"
   ]
  },
  {
   "cell_type": "code",
   "execution_count": 22,
   "id": "b569feca-7bf0-421f-b707-a103afa11717",
   "metadata": {},
   "outputs": [],
   "source": [
    "from cachetools import cached\n",
    "\n",
    "@cached(cache={})\n",
    "def load_model(model_path: str) -> object:\n",
    "    from joblib import load\n",
    "    model = load(model_path)\n",
    "    return model\n",
    "   \n",
    "@sproc(session=session, name='TFIDF_FIT', stage_location='@CD_STAGE',  \n",
    "       packages=['snowflake-snowpark-python', 'scikit-learn', 'joblib','cachetools'], \n",
    "       is_permanent=True, \n",
    "       replace=True,\n",
    "       imports=['@CD_STAGE/vectoriser.sav']\n",
    "      )\n",
    "def ml_train_sproc(session: Session, train_table:str, vectoriser_name: str, ml_model_name: str) -> str:\n",
    "    from sklearn.linear_model import LogisticRegression\n",
    "    from joblib import dump\n",
    "    import sys\n",
    "    import numpy as np\n",
    "    \n",
    "    vectoriser = load_model(sys._xoptions[\"snowflake_import_directory\"]+vectoriser_name)\n",
    "    train_df = session.table(train_table).to_pandas()\n",
    "    X = vectoriser.transform(train_df['TEXT'])\n",
    "    y = np.array(train_df['Y'])\n",
    "    lrmodel = LogisticRegression().fit(X, y)\n",
    "    dump(lrmodel, '/tmp/'+ml_model_name)\n",
    "    session.file.put('/tmp/'+ml_model_name, '@CD_STAGE', auto_compress=False, overwrite=True)\n",
    "    return('ML Model trained and saved')"
   ]
  },
  {
   "cell_type": "code",
   "execution_count": 23,
   "id": "8f56442b-5c9e-4a9e-9e8c-bba0921470ad",
   "metadata": {},
   "outputs": [
    {
     "data": {
      "text/plain": [
       "'ML Model trained and saved'"
      ]
     },
     "execution_count": 23,
     "metadata": {},
     "output_type": "execute_result"
    }
   ],
   "source": [
    "ml_train_sproc(\"TRAIN_DF\", \"vectoriser.sav\", 'lr_model.sav')"
   ]
  },
  {
   "cell_type": "markdown",
   "id": "28db3d1f-65a9-4204-8cee-54f632eabdc2",
   "metadata": {
    "tags": []
   },
   "source": [
    "### 2.SNOW.4 Inference Test"
   ]
  },
  {
   "cell_type": "code",
   "execution_count": 84,
   "id": "26a28b09-e1a3-4d37-a6d8-d475e014d3f6",
   "metadata": {},
   "outputs": [],
   "source": [
    "from snowflake.snowpark.types import PandasDataFrameType, IntegerType, StringType, FloatType\n",
    "\n",
    "@cached(cache={})\n",
    "def load_model(model_path: str) -> object:\n",
    "    from joblib import load\n",
    "    model = load(model_path)\n",
    "    return model\n",
    "\n",
    "class ml_predict:\n",
    "    \"\"\"\n",
    "    ML_Tree Search which takes in a given dataset and calculates the score for each unique dataset\n",
    "\n",
    "    \"\"\"\n",
    "    def __init__(self):\n",
    "        import sys\n",
    "        \n",
    "        ############################################################################################################################################\n",
    "        \n",
    "        self.vectoriser = # need to load your vectoriser here\n",
    "        self.clf = # need to load your ml model here here\n",
    "        \n",
    "        ############################################################################################################################################\n",
    "\n",
    "        \n",
    "    def end_partition(self, df):\n",
    "        \n",
    "        text = df.iloc[:,0]\n",
    "        y_true = df.iloc[:,1]\n",
    "        \n",
    "        ############################################################################################################################################\n",
    "        \n",
    "        # use your vectoriser here\n",
    "        # use your ml model to predict here\n",
    "        \n",
    "        ############################################################################################################################################\n",
    "\n",
    "        df_new = pd.DataFrame()\n",
    "        \n",
    "        df_new['Y_TRUE_'] = y_true\n",
    "        df_new['Y_PRED_'] = y_pred\n",
    "        yield df_new\n",
    "\n",
    "ml_predict.end_partition._sf_vectorized_input = pd.DataFrame\n",
    "\n",
    "ml_predict = session.udtf.register(\n",
    "    ml_predict, # the class\n",
    "    input_types=[PandasDataFrameType([StringType()] + # TEXT\n",
    "                                 [IntegerType()] # Y\n",
    "                                )], # \n",
    "    output_schema=PandasDataFrameType([IntegerType(), IntegerType()], [\"Y_TRUE_\", \"Y_PRED_\"]),\n",
    "    packages=[\"snowflake-snowpark-python\", 'scikit-learn==1.1.1', 'numpy', 'pandas', 'cachetools'],\n",
    "    imports=['@CD_STAGE/lr_model.sav', '@CD_STAGE/vectoriser.sav'],\n",
    "    stage_location='@CD_STAGE')   "
   ]
  },
  {
   "cell_type": "code",
   "execution_count": 86,
   "id": "54e5ad78-987d-4421-a553-1a517da93258",
   "metadata": {
    "tags": []
   },
   "outputs": [
    {
     "data": {
      "text/html": [
       "<div>\n",
       "<style scoped>\n",
       "    .dataframe tbody tr th:only-of-type {\n",
       "        vertical-align: middle;\n",
       "    }\n",
       "\n",
       "    .dataframe tbody tr th {\n",
       "        vertical-align: top;\n",
       "    }\n",
       "\n",
       "    .dataframe thead th {\n",
       "        text-align: right;\n",
       "    }\n",
       "</style>\n",
       "<table border=\"1\" class=\"dataframe\">\n",
       "  <thead>\n",
       "    <tr style=\"text-align: right;\">\n",
       "      <th></th>\n",
       "      <th>Y_TRUE_</th>\n",
       "      <th>Y_PRED_</th>\n",
       "    </tr>\n",
       "  </thead>\n",
       "  <tbody>\n",
       "    <tr>\n",
       "      <th>0</th>\n",
       "      <td>1</td>\n",
       "      <td>1</td>\n",
       "    </tr>\n",
       "    <tr>\n",
       "      <th>1</th>\n",
       "      <td>1</td>\n",
       "      <td>2</td>\n",
       "    </tr>\n",
       "    <tr>\n",
       "      <th>2</th>\n",
       "      <td>1</td>\n",
       "      <td>2</td>\n",
       "    </tr>\n",
       "    <tr>\n",
       "      <th>3</th>\n",
       "      <td>1</td>\n",
       "      <td>1</td>\n",
       "    </tr>\n",
       "    <tr>\n",
       "      <th>4</th>\n",
       "      <td>1</td>\n",
       "      <td>1</td>\n",
       "    </tr>\n",
       "    <tr>\n",
       "      <th>...</th>\n",
       "      <td>...</td>\n",
       "      <td>...</td>\n",
       "    </tr>\n",
       "    <tr>\n",
       "      <th>1167</th>\n",
       "      <td>2</td>\n",
       "      <td>2</td>\n",
       "    </tr>\n",
       "    <tr>\n",
       "      <th>1168</th>\n",
       "      <td>2</td>\n",
       "      <td>2</td>\n",
       "    </tr>\n",
       "    <tr>\n",
       "      <th>1169</th>\n",
       "      <td>2</td>\n",
       "      <td>2</td>\n",
       "    </tr>\n",
       "    <tr>\n",
       "      <th>1170</th>\n",
       "      <td>2</td>\n",
       "      <td>2</td>\n",
       "    </tr>\n",
       "    <tr>\n",
       "      <th>1171</th>\n",
       "      <td>2</td>\n",
       "      <td>2</td>\n",
       "    </tr>\n",
       "  </tbody>\n",
       "</table>\n",
       "<p>1172 rows × 2 columns</p>\n",
       "</div>"
      ],
      "text/plain": [
       "      Y_TRUE_  Y_PRED_\n",
       "0           1        1\n",
       "1           1        2\n",
       "2           1        2\n",
       "3           1        1\n",
       "4           1        1\n",
       "...       ...      ...\n",
       "1167        2        2\n",
       "1168        2        2\n",
       "1169        2        2\n",
       "1170        2        2\n",
       "1171        2        2\n",
       "\n",
       "[1172 rows x 2 columns]"
      ]
     },
     "execution_count": 86,
     "metadata": {},
     "output_type": "execute_result"
    }
   ],
   "source": [
    "sdf_tmp = session.table('TEST_DF')\n",
    "all_cols = sdf_tmp.columns\n",
    "pdf_res = sdf_tmp.select(ml_predict(*all_cols).over(partition_by=['Y'])) # your missing a .something() at the end of this to turn a snowpark dataframe into a pandas dataframe\n",
    "pdf_res"
   ]
  },
  {
   "cell_type": "markdown",
   "id": "d91d4c0e-ab32-48ba-8943-735097344a9d",
   "metadata": {
    "tags": []
   },
   "source": [
    "### 2.SNOW.4 Inference Solution"
   ]
  },
  {
   "cell_type": "code",
   "execution_count": 26,
   "id": "9a691160-7637-41ec-aa02-cc285292a346",
   "metadata": {},
   "outputs": [],
   "source": [
    "from snowflake.snowpark.types import PandasDataFrameType, IntegerType, StringType, FloatType\n",
    "\n",
    "@cached(cache={})\n",
    "def load_model(model_path: str) -> object:\n",
    "    from joblib import load\n",
    "    model = load(model_path)\n",
    "    return model\n",
    "\n",
    "class ml_predict:\n",
    "    \"\"\"\n",
    "    ML_Tree Search which takes in a given dataset and calculates the score for each unique dataset\n",
    "\n",
    "    \"\"\"\n",
    "    def __init__(self):\n",
    "        import sys\n",
    "        self.vectoriser = load_model(sys._xoptions[\"snowflake_import_directory\"]+'vectoriser.sav')\n",
    "        self.clf = load_model(sys._xoptions[\"snowflake_import_directory\"]+'lr_model.sav')\n",
    "\n",
    "        \n",
    "    def end_partition(self, df):\n",
    "        \n",
    "        text = df.iloc[:,0]\n",
    "        y_true = df.iloc[:,1]\n",
    "        tfidf = self.vectoriser.transform(text)\n",
    "        y_pred = self.clf.predict(tfidf)\n",
    "        df_new = pd.DataFrame()\n",
    "        \n",
    "        df_new['Y_TRUE_'] = y_true\n",
    "        df_new['Y_PRED_'] = y_pred\n",
    "        yield df_new\n",
    "\n",
    "ml_predict.end_partition._sf_vectorized_input = pd.DataFrame\n",
    "\n",
    "ml_predict = session.udtf.register(\n",
    "    ml_predict, # the class\n",
    "    input_types=[PandasDataFrameType([StringType()] + # TEXT\n",
    "                                 [IntegerType()] # Y\n",
    "                                )], # \n",
    "    output_schema=PandasDataFrameType([IntegerType(), IntegerType()], [\"Y_TRUE_\", \"Y_PRED_\"]),\n",
    "    packages=[\"snowflake-snowpark-python\", 'scikit-learn==1.1.1', 'numpy', 'pandas', 'cachetools'],\n",
    "    imports=['@CD_STAGE/lr_model.sav', '@CD_STAGE/vectoriser.sav'],\n",
    "    stage_location='@CD_STAGE')   "
   ]
  },
  {
   "cell_type": "code",
   "execution_count": 28,
   "id": "72e27028-64ed-4f97-bccc-39e3e3497f99",
   "metadata": {},
   "outputs": [
    {
     "data": {
      "text/html": [
       "<div>\n",
       "<style scoped>\n",
       "    .dataframe tbody tr th:only-of-type {\n",
       "        vertical-align: middle;\n",
       "    }\n",
       "\n",
       "    .dataframe tbody tr th {\n",
       "        vertical-align: top;\n",
       "    }\n",
       "\n",
       "    .dataframe thead th {\n",
       "        text-align: right;\n",
       "    }\n",
       "</style>\n",
       "<table border=\"1\" class=\"dataframe\">\n",
       "  <thead>\n",
       "    <tr style=\"text-align: right;\">\n",
       "      <th></th>\n",
       "      <th>Y_TRUE_</th>\n",
       "      <th>Y_PRED_</th>\n",
       "    </tr>\n",
       "  </thead>\n",
       "  <tbody>\n",
       "    <tr>\n",
       "      <th>0</th>\n",
       "      <td>1</td>\n",
       "      <td>1</td>\n",
       "    </tr>\n",
       "    <tr>\n",
       "      <th>1</th>\n",
       "      <td>1</td>\n",
       "      <td>2</td>\n",
       "    </tr>\n",
       "    <tr>\n",
       "      <th>2</th>\n",
       "      <td>1</td>\n",
       "      <td>2</td>\n",
       "    </tr>\n",
       "    <tr>\n",
       "      <th>3</th>\n",
       "      <td>1</td>\n",
       "      <td>1</td>\n",
       "    </tr>\n",
       "    <tr>\n",
       "      <th>4</th>\n",
       "      <td>1</td>\n",
       "      <td>1</td>\n",
       "    </tr>\n",
       "    <tr>\n",
       "      <th>...</th>\n",
       "      <td>...</td>\n",
       "      <td>...</td>\n",
       "    </tr>\n",
       "    <tr>\n",
       "      <th>1167</th>\n",
       "      <td>2</td>\n",
       "      <td>2</td>\n",
       "    </tr>\n",
       "    <tr>\n",
       "      <th>1168</th>\n",
       "      <td>2</td>\n",
       "      <td>2</td>\n",
       "    </tr>\n",
       "    <tr>\n",
       "      <th>1169</th>\n",
       "      <td>2</td>\n",
       "      <td>2</td>\n",
       "    </tr>\n",
       "    <tr>\n",
       "      <th>1170</th>\n",
       "      <td>2</td>\n",
       "      <td>2</td>\n",
       "    </tr>\n",
       "    <tr>\n",
       "      <th>1171</th>\n",
       "      <td>2</td>\n",
       "      <td>2</td>\n",
       "    </tr>\n",
       "  </tbody>\n",
       "</table>\n",
       "<p>1172 rows × 2 columns</p>\n",
       "</div>"
      ],
      "text/plain": [
       "      Y_TRUE_  Y_PRED_\n",
       "0           1        1\n",
       "1           1        2\n",
       "2           1        2\n",
       "3           1        1\n",
       "4           1        1\n",
       "...       ...      ...\n",
       "1167        2        2\n",
       "1168        2        2\n",
       "1169        2        2\n",
       "1170        2        2\n",
       "1171        2        2\n",
       "\n",
       "[1172 rows x 2 columns]"
      ]
     },
     "execution_count": 28,
     "metadata": {},
     "output_type": "execute_result"
    }
   ],
   "source": [
    "sdf_tmp = session.table('TEST_DF')\n",
    "all_cols = sdf_tmp.columns\n",
    "pdf_res = sdf_tmp.select(ml_predict(*all_cols).over(partition_by=['Y'])).to_pandas()\n",
    "pdf_res"
   ]
  },
  {
   "cell_type": "markdown",
   "id": "dc2cedbb-c920-4f9e-a6b4-d7fd41eb6027",
   "metadata": {
    "tags": []
   },
   "source": [
    "### 2.SNOW.5 Putting it all together!"
   ]
  },
  {
   "cell_type": "code",
   "execution_count": 29,
   "id": "b40b9396-200f-430d-85d2-1db974cbe1a6",
   "metadata": {
    "tags": []
   },
   "outputs": [
    {
     "data": {
      "text/plain": [
       "array([[0.28498294, 0.03668942, 0.01279863],\n",
       "       [0.05204778, 0.26706485, 0.00938567],\n",
       "       [0.01194539, 0.01279863, 0.31228669]])"
      ]
     },
     "execution_count": 29,
     "metadata": {},
     "output_type": "execute_result"
    }
   ],
   "source": [
    "cm = confusion_matrix(list(pdf_res.Y_TRUE_), list(pdf_res.Y_PRED_))\n",
    "cm = cm/len(pred)\n",
    "cm"
   ]
  },
  {
   "cell_type": "code",
   "execution_count": 30,
   "id": "2f109cb8-5388-41d0-8295-d13c0817e333",
   "metadata": {
    "tags": []
   },
   "outputs": [
    {
     "data": {
      "text/plain": [
       "<Axes: >"
      ]
     },
     "execution_count": 30,
     "metadata": {},
     "output_type": "execute_result"
    },
    {
     "data": {
      "image/png": "[encoded data removed]",
      "text/plain": [
       "<Figure size 640x480 with 2 Axes>"
      ]
     },
     "metadata": {},
     "output_type": "display_data"
    }
   ],
   "source": [
    "sns.heatmap(cm, annot=True, fmt='.2%', cmap='Blues')"
   ]
  },
  {
   "cell_type": "markdown",
   "id": "98834187-5587-4938-99d6-62f096dad3de",
   "metadata": {
    "tags": []
   },
   "source": [
    "### 2.SNOW.6 Bonus - Making it a single pipeline"
   ]
  },
  {
   "cell_type": "code",
   "execution_count": 38,
   "id": "204d99f6-bd1d-4273-9cb4-d83a37921234",
   "metadata": {},
   "outputs": [
    {
     "name": "stderr",
     "output_type": "stream",
     "text": [
      "The version of package 'regex' in the local environment is 2023.8.8, which does not fit the criteria for the requirement 'regex'. Your UDF might not work when the package version is different between the server and your local environment.\n"
     ]
    }
   ],
   "source": [
    "@sproc(session=session, name='PIPELINE', stage_location='@CD_STAGE',  \n",
    "       packages=['snowflake-snowpark-python', 'scikit-learn', 'regex', 'nltk'], \n",
    "       is_permanent=True, \n",
    "       replace=True,\n",
    "        imports=['@CD_STAGE/nltk_data/corpora/stopwords.zip', '/Users/mitaylor/opt/anaconda3/envs/xavier_test/lib/python3.9/shutil.py']\n",
    "      )\n",
    "def pipeline_sproc(session: Session, train_table: str, model_name: str) -> str:\n",
    "    from sklearn.feature_extraction.text import TfidfVectorizer\n",
    "    from sklearn.pipeline import Pipeline\n",
    "    from sklearn.linear_model import LogisticRegression\n",
    "    \n",
    "    import nltk\n",
    "    import os\n",
    "    import shutil\n",
    "    import sys\n",
    "    from joblib import dump\n",
    "    \n",
    "    def simplify(text):\n",
    "        try:\n",
    "            text = unicode(text, \"utf-8\")\n",
    "        except NameError:\n",
    "            pass\n",
    "        text = unicodedata.normalize(\"NFD\", text).encode(\"ascii\", \"ignore\").decode(\"utf-8\")\n",
    "        return str(text)    \n",
    "\n",
    "    IMPORT_DIRECTORY_NAME = \"snowflake_import_directory\"\n",
    "    import_dir = sys._xoptions[IMPORT_DIRECTORY_NAME]\n",
    "\n",
    "    # set up nltk data asset directory\n",
    "    nltk.data.path.append(import_dir)\n",
    "    data_path = '/tmp/nltk_data/'\n",
    "    nltk.data.path.append(data_path)\n",
    "    os.environ[\"NLTK_DATA\"] = data_path\n",
    "\n",
    "    # copy data for wordnet\n",
    "    os.makedirs(os.path.join(data_path, 'corpora'), exist_ok=True)\n",
    "    shutil.copy(os.path.join(import_dir, 'stopwords.zip'), os.path.join(data_path, 'corpora/stopwords.zip'))\n",
    "\n",
    "    stopwords = nltk.corpus.stopwords.words(\"english\")\n",
    "    stopwords = [simplify(d) for d in stopwords]\n",
    "    \n",
    "    data = session.table(train_table).to_pandas()\n",
    "    y_train = data['Y']\n",
    "    X_train = data['TEXT']\n",
    "    \n",
    "    vectorizer = TfidfVectorizer(\n",
    "        min_df=1,\n",
    "        max_features=None,\n",
    "        strip_accents=\"unicode\",\n",
    "        analyzer=\"word\",\n",
    "        token_pattern=r\"[a-zA-Z0-9]{1,}\",\n",
    "        ngram_range=(1, 3),\n",
    "        use_idf=1,\n",
    "        smooth_idf=1,\n",
    "        sublinear_tf=1,\n",
    "        stop_words=stopwords,\n",
    "    )\n",
    "\n",
    "    # Build a pipeline\n",
    "    pipe = Pipeline([('vectoriser', vectorizer),\n",
    "                   ('LR', LogisticRegression())])\n",
    "    pipe.fit(X_train, y_train)\n",
    "    dump(pipe, '/tmp/'+model_name)\n",
    "    session.file.put('/tmp/'+model_name, '@CD_STAGE', auto_compress=False, overwrite=True)"
   ]
  },
  {
   "cell_type": "code",
   "execution_count": 40,
   "id": "ab93d1a6-9611-490e-8ab4-a8cd075451bf",
   "metadata": {
    "tags": []
   },
   "outputs": [
    {
     "name": "stdout",
     "output_type": "stream",
     "text": [
      "ML Model trained and saved\n"
     ]
    }
   ],
   "source": [
    "# Let's Run Our Sproc (and save the model result)\n",
    "pipeline_sproc('TRAIN_DF', 'PIPE_MODEL.sav')\n",
    "print('ML Model trained and saved')"
   ]
  },
  {
   "cell_type": "code",
   "execution_count": 61,
   "id": "7f933163-dd02-4f87-8e04-ac63713cb6a8",
   "metadata": {
    "tags": []
   },
   "outputs": [
    {
     "name": "stderr",
     "output_type": "stream",
     "text": [
      "The version of package 'regex' in the local environment is 2023.8.8, which does not fit the criteria for the requirement 'regex'. Your UDF might not work when the package version is different between the server and your local environment.\n"
     ]
    }
   ],
   "source": [
    "# Register the pipeline as a UDF\n",
    "@cached(cache={})\n",
    "def load_model(model_path: str) -> object:\n",
    "    from joblib import load\n",
    "    model = load(model_path)\n",
    "    return model\n",
    "\n",
    "def udf_pipe_model(df: pd.DataFrame) -> pd.Series:\n",
    "    import pandas as pd\n",
    "    import sys\n",
    "    model = load_model(sys._xoptions[\"snowflake_import_directory\"]+'PIPE_MODEL.sav')\n",
    "    \n",
    "    scored_data = pd.Series(model.predict(df.iloc[:,0]))\n",
    "    return scored_data\n",
    "\n",
    "feature_cols = [\"TEXT\"]\n",
    "udf_pipe_model = session.udf.register(session=session,func=udf_pipe_model,\n",
    "                                 name=\"udf_score_pipe_model\",\n",
    "                                 stage_location='@CD_STAGE',\n",
    "                                 input_types=[T.StringType()]*len(feature_cols),\n",
    "                                 return_type=T.FloatType(),\n",
    "                                 replace=True, is_permanent=True,\n",
    "                                 max_batch_size=1000,\n",
    "                                 imports=['@CD_STAGE/PIPE_MODEL.sav'],\n",
    "                                 packages=['scikit-learn', 'nltk', 'pandas','regex','joblib','cachetools'])"
   ]
  },
  {
   "cell_type": "code",
   "execution_count": 66,
   "id": "6110072d-75b2-4ec3-8505-271b5090a38f",
   "metadata": {
    "tags": []
   },
   "outputs": [
    {
     "name": "stdout",
     "output_type": "stream",
     "text": [
      "                                                 TEXT  Y  Y_PRED\n",
      "0   Greetings,\\n  I need some help with the detail...  2     2.0\n",
      "1   I'm running HP-UX 8.07 with HP VUE 2.01 and I ...  2     2.0\n",
      "2   Here's another question by a hesitant Powerboo...  1     1.0\n",
      "3   I'm trying to connect a Mac SE modem port to a...  0     1.0\n",
      "4   \\nI don't see this as a problem with the chip-...  0     0.0\n",
      "5   Hi all netters,\\n\\n  If I upgrade my XT with a...  0     0.0\n",
      "6   I'm trying to turn on Xauthorization using MIT...  2     2.0\n",
      "7   Can anybody tell me anything about the availib...  2     2.0\n",
      "8   \\nI have two SCSI hard drives, each has 512KB ...  0     0.0\n",
      "9   This discussion on viewing .ps files undex X11...  2     2.0\n",
      "10  Someone mentioned a while ago that the Duos we...  1     1.0\n",
      "11  \\nYou may have been emailed this, but the IIsi...  1     1.0\n",
      "12  I bought a 386DX-40 motherboard for 50$... no ...  0     0.0\n",
      "13  2-The-Max VESA VL video controller/ Cirus Logi...  0     0.0\n",
      "14  \\n\\tSeveral ways are available -- pageview (wh...  2     2.0\n",
      "CPU times: user 27 ms, sys: 8.43 ms, total: 35.4 ms\n",
      "Wall time: 7.5 s\n"
     ]
    }
   ],
   "source": [
    "%%time\n",
    "test_sdf = session.table('TEST_DF')\n",
    "test_res = test_sdf.with_column('Y_PRED', udf_pipe_model(['TEXT']))\n",
    "print(test_res.limit(15).to_pandas())"
   ]
  },
  {
   "cell_type": "markdown",
   "id": "0cedb226-a0be-4d3b-ae3f-392fd9d792dd",
   "metadata": {
    "tags": []
   },
   "source": [
    "### 2.SNOW.7 Bonus - Scaling Up"
   ]
  },
  {
   "cell_type": "code",
   "execution_count": 67,
   "id": "d964723a-6cb9-4d66-918b-54e1e0856e76",
   "metadata": {},
   "outputs": [],
   "source": [
    "multiple = 150\n",
    "dataset_name = \"TEST_DF_\" + str(multiple) + \"X\"\n",
    "session.sql(\"CREATE OR REPLACE WAREHOUSE VB_VH WITH WAREHOUSE_SIZE='X-LARGE'\").collect()\n",
    "for i in range(0,150):\n",
    "    test_sdf.write.save_as_table(dataset_name, mode=\"append\", table_type=\"temporary\")\n",
    "sdf_big = session.table(dataset_name)\n"
   ]
  },
  {
   "cell_type": "code",
   "execution_count": 68,
   "id": "595023d8-84d0-4070-b8e3-ca1d4ef3e5b7",
   "metadata": {
    "tags": []
   },
   "outputs": [
    {
     "name": "stdout",
     "output_type": "stream",
     "text": [
      "                                                 TEXT  Y  Y_PRED\n",
      "0   Greetings,\\n  I need some help with the detail...  2     2.0\n",
      "1   I'm running HP-UX 8.07 with HP VUE 2.01 and I ...  2     2.0\n",
      "2   Here's another question by a hesitant Powerboo...  1     1.0\n",
      "3   I'm trying to connect a Mac SE modem port to a...  0     1.0\n",
      "4   \\nI don't see this as a problem with the chip-...  0     0.0\n",
      "5   Hi all netters,\\n\\n  If I upgrade my XT with a...  0     0.0\n",
      "6   I'm trying to turn on Xauthorization using MIT...  2     2.0\n",
      "7   Can anybody tell me anything about the availib...  2     2.0\n",
      "8   \\nI have two SCSI hard drives, each has 512KB ...  0     0.0\n",
      "9   This discussion on viewing .ps files undex X11...  2     2.0\n",
      "10  Someone mentioned a while ago that the Duos we...  1     1.0\n",
      "11  \\nYou may have been emailed this, but the IIsi...  1     1.0\n",
      "12  I bought a 386DX-40 motherboard for 50$... no ...  0     0.0\n",
      "13  2-The-Max VESA VL video controller/ Cirus Logi...  0     0.0\n",
      "14  \\n\\tSeveral ways are available -- pageview (wh...  2     2.0\n",
      "CPU times: user 31.6 ms, sys: 12.2 ms, total: 43.8 ms\n",
      "Wall time: 6.23 s\n"
     ]
    }
   ],
   "source": [
    "%%time\n",
    "test_res = sdf_big.with_column('Y_PRED', udf_pipe_model(['TEXT']))\n",
    "print(test_res.limit(15).to_pandas())"
   ]
  },
  {
   "cell_type": "code",
   "execution_count": null,
   "id": "c5b1003e-37ed-4154-9c88-6346180ff921",
   "metadata": {},
   "outputs": [],
   "source": []
  }
 ],
 "metadata": {
  "kernelspec": {
   "display_name": "Python 3 (ipykernel)",
   "language": "python",
   "name": "python3"
  },
  "language_info": {
   "codemirror_mode": {
    "name": "ipython",
    "version": 3
   },
   "file_extension": ".py",
   "mimetype": "text/x-python",
   "name": "python",
   "nbconvert_exporter": "python",
   "pygments_lexer": "ipython3",
   "version": "3.8.17"
  }
 },
 "nbformat": 4,
 "nbformat_minor": 5
}
